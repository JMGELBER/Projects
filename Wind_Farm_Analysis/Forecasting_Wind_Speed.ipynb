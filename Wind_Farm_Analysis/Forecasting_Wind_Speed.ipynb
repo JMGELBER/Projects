{
 "cells": [
  {
   "attachments": {},
   "cell_type": "markdown",
   "metadata": {},
   "source": [
    "## Importing Libraries"
   ]
  },
  {
   "cell_type": "code",
   "execution_count": 1,
   "metadata": {
    "vscode": {
     "languageId": "r"
    }
   },
   "outputs": [
    {
     "name": "stderr",
     "output_type": "stream",
     "text": [
      "Registered S3 method overwritten by 'quantmod':\n",
      "  method            from\n",
      "  as.zoo.data.frame zoo \n",
      "\n",
      "Loading required package: Matrix\n",
      "\n",
      "Loaded glmnet 4.1-2\n",
      "\n"
     ]
    }
   ],
   "source": [
    "library(forecast)\n",
    "library(glmnet)\n",
    "library(repr)"
   ]
  },
  {
   "attachments": {},
   "cell_type": "markdown",
   "metadata": {},
   "source": [
    "### Setting Plot Size"
   ]
  },
  {
   "cell_type": "code",
   "execution_count": 2,
   "metadata": {
    "vscode": {
     "languageId": "r"
    }
   },
   "outputs": [],
   "source": [
    "options(repr.plot.width = 10, repr.plot.height = 10)"
   ]
  },
  {
   "attachments": {},
   "cell_type": "markdown",
   "metadata": {},
   "source": [
    "## Importing Data"
   ]
  },
  {
   "cell_type": "code",
   "execution_count": 3,
   "metadata": {
    "vscode": {
     "languageId": "r"
    }
   },
   "outputs": [
    {
     "data": {
      "text/html": [
       "<table class=\"dataframe\">\n",
       "<caption>A data.frame: 6 × 7</caption>\n",
       "<thead>\n",
       "\t<tr><th></th><th scope=col>X</th><th scope=col>Time</th><th scope=col>Speed_ms</th><th scope=col>Temperature_C</th><th scope=col>Humidity</th><th scope=col>Solar_Irradiance_Wm2</th><th scope=col>Power_Watt</th></tr>\n",
       "\t<tr><th></th><th scope=col>&lt;int&gt;</th><th scope=col>&lt;chr&gt;</th><th scope=col>&lt;dbl&gt;</th><th scope=col>&lt;dbl&gt;</th><th scope=col>&lt;dbl&gt;</th><th scope=col>&lt;dbl&gt;</th><th scope=col>&lt;dbl&gt;</th></tr>\n",
       "</thead>\n",
       "<tbody>\n",
       "\t<tr><th scope=row>1</th><td>1</td><td>2020-01-09 10:00:00</td><td>0.743</td><td>-3.092</td><td>43.48</td><td>59.48</td><td>-0.69527077</td></tr>\n",
       "\t<tr><th scope=row>2</th><td>2</td><td>2020-01-09 10:10:00</td><td>0.458</td><td>-2.813</td><td>42.88</td><td>60.62</td><td>-0.26894369</td></tr>\n",
       "\t<tr><th scope=row>3</th><td>3</td><td>2020-01-09 10:20:00</td><td>0.350</td><td>-2.219</td><td>41.58</td><td>66.71</td><td>-0.03266857</td></tr>\n",
       "\t<tr><th scope=row>4</th><td>4</td><td>2020-01-09 10:30:00</td><td>0.598</td><td>-1.933</td><td>40.30</td><td>66.54</td><td> 0.39081452</td></tr>\n",
       "\t<tr><th scope=row>5</th><td>5</td><td>2020-01-09 10:40:00</td><td>0.809</td><td>-2.249</td><td>40.23</td><td>64.71</td><td>-0.47008277</td></tr>\n",
       "\t<tr><th scope=row>6</th><td>6</td><td>2020-01-09 10:50:00</td><td>0.822</td><td>-2.279</td><td>40.18</td><td>69.12</td><td> 0.60388749</td></tr>\n",
       "</tbody>\n",
       "</table>\n"
      ],
      "text/latex": [
       "A data.frame: 6 × 7\n",
       "\\begin{tabular}{r|lllllll}\n",
       "  & X & Time & Speed\\_ms & Temperature\\_C & Humidity & Solar\\_Irradiance\\_Wm2 & Power\\_Watt\\\\\n",
       "  & <int> & <chr> & <dbl> & <dbl> & <dbl> & <dbl> & <dbl>\\\\\n",
       "\\hline\n",
       "\t1 & 1 & 2020-01-09 10:00:00 & 0.743 & -3.092 & 43.48 & 59.48 & -0.69527077\\\\\n",
       "\t2 & 2 & 2020-01-09 10:10:00 & 0.458 & -2.813 & 42.88 & 60.62 & -0.26894369\\\\\n",
       "\t3 & 3 & 2020-01-09 10:20:00 & 0.350 & -2.219 & 41.58 & 66.71 & -0.03266857\\\\\n",
       "\t4 & 4 & 2020-01-09 10:30:00 & 0.598 & -1.933 & 40.30 & 66.54 &  0.39081452\\\\\n",
       "\t5 & 5 & 2020-01-09 10:40:00 & 0.809 & -2.249 & 40.23 & 64.71 & -0.47008277\\\\\n",
       "\t6 & 6 & 2020-01-09 10:50:00 & 0.822 & -2.279 & 40.18 & 69.12 &  0.60388749\\\\\n",
       "\\end{tabular}\n"
      ],
      "text/markdown": [
       "\n",
       "A data.frame: 6 × 7\n",
       "\n",
       "| <!--/--> | X &lt;int&gt; | Time &lt;chr&gt; | Speed_ms &lt;dbl&gt; | Temperature_C &lt;dbl&gt; | Humidity &lt;dbl&gt; | Solar_Irradiance_Wm2 &lt;dbl&gt; | Power_Watt &lt;dbl&gt; |\n",
       "|---|---|---|---|---|---|---|---|\n",
       "| 1 | 1 | 2020-01-09 10:00:00 | 0.743 | -3.092 | 43.48 | 59.48 | -0.69527077 |\n",
       "| 2 | 2 | 2020-01-09 10:10:00 | 0.458 | -2.813 | 42.88 | 60.62 | -0.26894369 |\n",
       "| 3 | 3 | 2020-01-09 10:20:00 | 0.350 | -2.219 | 41.58 | 66.71 | -0.03266857 |\n",
       "| 4 | 4 | 2020-01-09 10:30:00 | 0.598 | -1.933 | 40.30 | 66.54 |  0.39081452 |\n",
       "| 5 | 5 | 2020-01-09 10:40:00 | 0.809 | -2.249 | 40.23 | 64.71 | -0.47008277 |\n",
       "| 6 | 6 | 2020-01-09 10:50:00 | 0.822 | -2.279 | 40.18 | 69.12 |  0.60388749 |\n",
       "\n"
      ],
      "text/plain": [
       "  X Time                Speed_ms Temperature_C Humidity Solar_Irradiance_Wm2\n",
       "1 1 2020-01-09 10:00:00 0.743    -3.092        43.48    59.48               \n",
       "2 2 2020-01-09 10:10:00 0.458    -2.813        42.88    60.62               \n",
       "3 3 2020-01-09 10:20:00 0.350    -2.219        41.58    66.71               \n",
       "4 4 2020-01-09 10:30:00 0.598    -1.933        40.30    66.54               \n",
       "5 5 2020-01-09 10:40:00 0.809    -2.249        40.23    64.71               \n",
       "6 6 2020-01-09 10:50:00 0.822    -2.279        40.18    69.12               \n",
       "  Power_Watt \n",
       "1 -0.69527077\n",
       "2 -0.26894369\n",
       "3 -0.03266857\n",
       "4  0.39081452\n",
       "5 -0.47008277\n",
       "6  0.60388749"
      ]
     },
     "metadata": {},
     "output_type": "display_data"
    },
    {
     "data": {
      "text/html": [
       "<table class=\"dataframe\">\n",
       "<caption>A data.frame: 6 × 7</caption>\n",
       "<thead>\n",
       "\t<tr><th></th><th scope=col>X</th><th scope=col>Time</th><th scope=col>Speed_ms</th><th scope=col>Temperature_C</th><th scope=col>Humidity</th><th scope=col>Solar_Irradiance_Wm2</th><th scope=col>Power_Watt</th></tr>\n",
       "\t<tr><th></th><th scope=col>&lt;int&gt;</th><th scope=col>&lt;chr&gt;</th><th scope=col>&lt;lgl&gt;</th><th scope=col>&lt;dbl&gt;</th><th scope=col>&lt;dbl&gt;</th><th scope=col>&lt;dbl&gt;</th><th scope=col>&lt;lgl&gt;</th></tr>\n",
       "</thead>\n",
       "<tbody>\n",
       "\t<tr><th scope=row>1</th><td>1</td><td>1/12/2020 2:30</td><td>NA</td><td>18.81</td><td>80.50</td><td>0</td><td>NA</td></tr>\n",
       "\t<tr><th scope=row>2</th><td>2</td><td>1/12/2020 2:40</td><td>NA</td><td>19.24</td><td>78.47</td><td>0</td><td>NA</td></tr>\n",
       "\t<tr><th scope=row>3</th><td>3</td><td>1/12/2020 2:50</td><td>NA</td><td>19.45</td><td>77.84</td><td>0</td><td>NA</td></tr>\n",
       "\t<tr><th scope=row>4</th><td>4</td><td>1/12/2020 3:00</td><td>NA</td><td>19.25</td><td>79.97</td><td>0</td><td>NA</td></tr>\n",
       "\t<tr><th scope=row>5</th><td>5</td><td>1/12/2020 3:10</td><td>NA</td><td>19.15</td><td>80.70</td><td>0</td><td>NA</td></tr>\n",
       "\t<tr><th scope=row>6</th><td>6</td><td>1/12/2020 3:20</td><td>NA</td><td>19.24</td><td>80.50</td><td>0</td><td>NA</td></tr>\n",
       "</tbody>\n",
       "</table>\n"
      ],
      "text/latex": [
       "A data.frame: 6 × 7\n",
       "\\begin{tabular}{r|lllllll}\n",
       "  & X & Time & Speed\\_ms & Temperature\\_C & Humidity & Solar\\_Irradiance\\_Wm2 & Power\\_Watt\\\\\n",
       "  & <int> & <chr> & <lgl> & <dbl> & <dbl> & <dbl> & <lgl>\\\\\n",
       "\\hline\n",
       "\t1 & 1 & 1/12/2020 2:30 & NA & 18.81 & 80.50 & 0 & NA\\\\\n",
       "\t2 & 2 & 1/12/2020 2:40 & NA & 19.24 & 78.47 & 0 & NA\\\\\n",
       "\t3 & 3 & 1/12/2020 2:50 & NA & 19.45 & 77.84 & 0 & NA\\\\\n",
       "\t4 & 4 & 1/12/2020 3:00 & NA & 19.25 & 79.97 & 0 & NA\\\\\n",
       "\t5 & 5 & 1/12/2020 3:10 & NA & 19.15 & 80.70 & 0 & NA\\\\\n",
       "\t6 & 6 & 1/12/2020 3:20 & NA & 19.24 & 80.50 & 0 & NA\\\\\n",
       "\\end{tabular}\n"
      ],
      "text/markdown": [
       "\n",
       "A data.frame: 6 × 7\n",
       "\n",
       "| <!--/--> | X &lt;int&gt; | Time &lt;chr&gt; | Speed_ms &lt;lgl&gt; | Temperature_C &lt;dbl&gt; | Humidity &lt;dbl&gt; | Solar_Irradiance_Wm2 &lt;dbl&gt; | Power_Watt &lt;lgl&gt; |\n",
       "|---|---|---|---|---|---|---|---|\n",
       "| 1 | 1 | 1/12/2020 2:30 | NA | 18.81 | 80.50 | 0 | NA |\n",
       "| 2 | 2 | 1/12/2020 2:40 | NA | 19.24 | 78.47 | 0 | NA |\n",
       "| 3 | 3 | 1/12/2020 2:50 | NA | 19.45 | 77.84 | 0 | NA |\n",
       "| 4 | 4 | 1/12/2020 3:00 | NA | 19.25 | 79.97 | 0 | NA |\n",
       "| 5 | 5 | 1/12/2020 3:10 | NA | 19.15 | 80.70 | 0 | NA |\n",
       "| 6 | 6 | 1/12/2020 3:20 | NA | 19.24 | 80.50 | 0 | NA |\n",
       "\n"
      ],
      "text/plain": [
       "  X Time           Speed_ms Temperature_C Humidity Solar_Irradiance_Wm2\n",
       "1 1 1/12/2020 2:30 NA       18.81         80.50    0                   \n",
       "2 2 1/12/2020 2:40 NA       19.24         78.47    0                   \n",
       "3 3 1/12/2020 2:50 NA       19.45         77.84    0                   \n",
       "4 4 1/12/2020 3:00 NA       19.25         79.97    0                   \n",
       "5 5 1/12/2020 3:10 NA       19.15         80.70    0                   \n",
       "6 6 1/12/2020 3:20 NA       19.24         80.50    0                   \n",
       "  Power_Watt\n",
       "1 NA        \n",
       "2 NA        \n",
       "3 NA        \n",
       "4 NA        \n",
       "5 NA        \n",
       "6 NA        "
      ]
     },
     "metadata": {},
     "output_type": "display_data"
    },
    {
     "data": {
      "text/html": [
       "153"
      ],
      "text/latex": [
       "153"
      ],
      "text/markdown": [
       "153"
      ],
      "text/plain": [
       "[1] 153"
      ]
     },
     "metadata": {},
     "output_type": "display_data"
    }
   ],
   "source": [
    "data = read.csv(file = \"data.csv\")\n",
    "test_data = read.csv(file =\"testdata_vp.csv\")\n",
    "head(data)\n",
    "head(test_data)\n",
    "x= which(data$Solar_Irradiance_Wm2> 0,arr.ind = FALSE) # times where solar irrdence is not 0 \n",
    "length(x)"
   ]
  },
  {
   "attachments": {},
   "cell_type": "markdown",
   "metadata": {},
   "source": [
    "## Exploring the Data"
   ]
  },
  {
   "attachments": {},
   "cell_type": "markdown",
   "metadata": {},
   "source": [
    "### Checking the correlation between all features"
   ]
  },
  {
   "cell_type": "code",
   "execution_count": 4,
   "metadata": {
    "vscode": {
     "languageId": "r"
    }
   },
   "outputs": [
    {
     "data": {
      "text/html": [
       "<table class=\"dataframe\">\n",
       "<caption>A matrix: 5 × 5 of type dbl</caption>\n",
       "<thead>\n",
       "\t<tr><th></th><th scope=col>Speed_ms</th><th scope=col>Temperature_C</th><th scope=col>Humidity</th><th scope=col>Solar_Irradiance_Wm2</th><th scope=col>Power_Watt</th></tr>\n",
       "</thead>\n",
       "<tbody>\n",
       "\t<tr><th scope=row>Speed_ms</th><td> 1.00000000</td><td> 0.73863227</td><td> 0.1936181</td><td>-0.01579759</td><td> 0.93408094</td></tr>\n",
       "\t<tr><th scope=row>Temperature_C</th><td> 0.73863227</td><td> 1.00000000</td><td> 0.4966482</td><td>-0.08514597</td><td> 0.70508284</td></tr>\n",
       "\t<tr><th scope=row>Humidity</th><td> 0.19361809</td><td> 0.49664817</td><td> 1.0000000</td><td>-0.47244713</td><td> 0.22154504</td></tr>\n",
       "\t<tr><th scope=row>Solar_Irradiance_Wm2</th><td>-0.01579759</td><td>-0.08514597</td><td>-0.4724471</td><td> 1.00000000</td><td>-0.01881058</td></tr>\n",
       "\t<tr><th scope=row>Power_Watt</th><td> 0.93408094</td><td> 0.70508284</td><td> 0.2215450</td><td>-0.01881058</td><td> 1.00000000</td></tr>\n",
       "</tbody>\n",
       "</table>\n"
      ],
      "text/latex": [
       "A matrix: 5 × 5 of type dbl\n",
       "\\begin{tabular}{r|lllll}\n",
       "  & Speed\\_ms & Temperature\\_C & Humidity & Solar\\_Irradiance\\_Wm2 & Power\\_Watt\\\\\n",
       "\\hline\n",
       "\tSpeed\\_ms &  1.00000000 &  0.73863227 &  0.1936181 & -0.01579759 &  0.93408094\\\\\n",
       "\tTemperature\\_C &  0.73863227 &  1.00000000 &  0.4966482 & -0.08514597 &  0.70508284\\\\\n",
       "\tHumidity &  0.19361809 &  0.49664817 &  1.0000000 & -0.47244713 &  0.22154504\\\\\n",
       "\tSolar\\_Irradiance\\_Wm2 & -0.01579759 & -0.08514597 & -0.4724471 &  1.00000000 & -0.01881058\\\\\n",
       "\tPower\\_Watt &  0.93408094 &  0.70508284 &  0.2215450 & -0.01881058 &  1.00000000\\\\\n",
       "\\end{tabular}\n"
      ],
      "text/markdown": [
       "\n",
       "A matrix: 5 × 5 of type dbl\n",
       "\n",
       "| <!--/--> | Speed_ms | Temperature_C | Humidity | Solar_Irradiance_Wm2 | Power_Watt |\n",
       "|---|---|---|---|---|---|\n",
       "| Speed_ms |  1.00000000 |  0.73863227 |  0.1936181 | -0.01579759 |  0.93408094 |\n",
       "| Temperature_C |  0.73863227 |  1.00000000 |  0.4966482 | -0.08514597 |  0.70508284 |\n",
       "| Humidity |  0.19361809 |  0.49664817 |  1.0000000 | -0.47244713 |  0.22154504 |\n",
       "| Solar_Irradiance_Wm2 | -0.01579759 | -0.08514597 | -0.4724471 |  1.00000000 | -0.01881058 |\n",
       "| Power_Watt |  0.93408094 |  0.70508284 |  0.2215450 | -0.01881058 |  1.00000000 |\n",
       "\n"
      ],
      "text/plain": [
       "                     Speed_ms    Temperature_C Humidity   Solar_Irradiance_Wm2\n",
       "Speed_ms              1.00000000  0.73863227    0.1936181 -0.01579759         \n",
       "Temperature_C         0.73863227  1.00000000    0.4966482 -0.08514597         \n",
       "Humidity              0.19361809  0.49664817    1.0000000 -0.47244713         \n",
       "Solar_Irradiance_Wm2 -0.01579759 -0.08514597   -0.4724471  1.00000000         \n",
       "Power_Watt            0.93408094  0.70508284    0.2215450 -0.01881058         \n",
       "                     Power_Watt \n",
       "Speed_ms              0.93408094\n",
       "Temperature_C         0.70508284\n",
       "Humidity              0.22154504\n",
       "Solar_Irradiance_Wm2 -0.01881058\n",
       "Power_Watt            1.00000000"
      ]
     },
     "metadata": {},
     "output_type": "display_data"
    }
   ],
   "source": [
    "cor(data[3:7]) ## check correlation between variables"
   ]
  },
  {
   "attachments": {},
   "cell_type": "markdown",
   "metadata": {},
   "source": [
    "### Checking Different Features Correlation with Wind Speed"
   ]
  },
  {
   "cell_type": "code",
   "execution_count": 5,
   "metadata": {
    "vscode": {
     "languageId": "r"
    }
   },
   "outputs": [
    {
     "name": "stdout",
     "output_type": "stream",
     "text": [
      "[1] \"Solar_Irradiance_Day: -0.10127008543078\"\n",
      "[1] \"Humidity: 0.193618093194276\"\n",
      "[1] \"Temperature: 0.73863227053936\"\n",
      "[1] \"Power: 0.934080939593275\"\n",
      "[1] \"Temperature_Day: 0.910468258749931\"\n",
      "[1] \"Humidity_Day: 0.32214412976112\"\n"
     ]
    }
   ],
   "source": [
    "print(paste('Solar_Irradiance_Day:',cor(data$Speed_ms[x], data$Solar_Irradiance_Wm2[x])))\n",
    "print(paste('Humidity:', cor(data$Speed_ms,data$Humidity)))\n",
    "print(paste('Temperature:', cor(data$Speed_ms, data$Temperature_C)))\n",
    "print(paste('Power:',cor(data$Speed_ms,data$Power_Watt)))\n",
    "print(paste('Temperature_Day:', cor(data$Speed_ms[x], data$Temperature_C[x])))\n",
    "print(paste('Humidity_Day:',cor(data$Speed_ms[x],data$Humidity [x])))\n",
    "\n",
    "cor_temp = cor_hum= cor_sol=vector(length= 10)\n",
    "\n",
    "for (i in 1:10){\n",
    "  cor_temp [i]= cor(data$Speed_ms, (data$Temperature_C)^i)\n",
    "  cor_hum [i] = cor(data$Speed_ms, (data$Humidity)^i)\n",
    "  cor_sol [i] = cor(data$Speed_ms[x], (data$Solar_Irradiance_Wm2[x])^i)\n",
    "}"
   ]
  },
  {
   "attachments": {},
   "cell_type": "markdown",
   "metadata": {},
   "source": [
    "### Plotting the correlations with wind speed of each feature"
   ]
  },
  {
   "cell_type": "code",
   "execution_count": 6,
   "metadata": {
    "vscode": {
     "languageId": "r"
    }
   },
   "outputs": [
    {
     "data": {
      "image/png": "[encoded data removed]",
      "text/plain": [
       "plot without title"
      ]
     },
     "metadata": {
      "image/png": {
       "height": 600,
       "width": 600
      }
     },
     "output_type": "display_data"
    },
    {
     "data": {
      "image/png": "[encoded data removed]",
      "text/plain": [
       "plot without title"
      ]
     },
     "metadata": {
      "image/png": {
       "height": 600,
       "width": 600
      }
     },
     "output_type": "display_data"
    },
    {
     "data": {
      "image/png": "[encoded data removed]",
      "text/plain": [
       "plot without title"
      ]
     },
     "metadata": {
      "image/png": {
       "height": 600,
       "width": 600
      }
     },
     "output_type": "display_data"
    }
   ],
   "source": [
    "plot(seq(1,10,1),cor_temp, xlab=\"exponent\", ylab = \"correlation with temp\", pch=19)\n",
    "\n",
    "plot(seq(1,10,1),cor_hum, xlab=\"exponent\", ylab = \"correlation with humidity\", pch=19)\n",
    "\n",
    "plot(seq(1,10,1),cor_sol, xlab=\"exponent\", ylab = \"correlation with Solar irridence\", pch=19)"
   ]
  },
  {
   "attachments": {},
   "cell_type": "markdown",
   "metadata": {},
   "source": [
    "__temp^3 has the best correlation with wind speed__"
   ]
  },
  {
   "attachments": {},
   "cell_type": "markdown",
   "metadata": {},
   "source": [
    "### Correlation with wind power"
   ]
  },
  {
   "cell_type": "code",
   "execution_count": 7,
   "metadata": {
    "vscode": {
     "languageId": "r"
    }
   },
   "outputs": [
    {
     "data": {
      "image/png": "[encoded data removed]",
      "text/plain": [
       "plot without title"
      ]
     },
     "metadata": {
      "image/png": {
       "height": 600,
       "width": 600
      }
     },
     "output_type": "display_data"
    }
   ],
   "source": [
    "#checking correlation of temp with power\n",
    "cor_temp2= vector(length=10)\n",
    "for (i in 1:10){\n",
    "  cor_temp2 [i]= cor(data$Power_Watt, (data$Temperature_C)^i)\n",
    "}\n",
    "\n",
    "plot(seq(1,10,1),cor_temp2, xlab=\"exponent\", ylab = \"correlation with temp\", pch=19)"
   ]
  },
  {
   "attachments": {},
   "cell_type": "markdown",
   "metadata": {},
   "source": [
    "### Using and  80-20 train/test split "
   ]
  },
  {
   "cell_type": "code",
   "execution_count": 8,
   "metadata": {
    "vscode": {
     "languageId": "r"
    }
   },
   "outputs": [
    {
     "data": {
      "text/html": [
       "0.198966408268734"
      ],
      "text/latex": [
       "0.198966408268734"
      ],
      "text/markdown": [
       "0.198966408268734"
      ],
      "text/plain": [
       "[1] 0.1989664"
      ]
     },
     "metadata": {},
     "output_type": "display_data"
    }
   ],
   "source": [
    "train.id = seq(1,round(length(data$Time) *.8,0),1)\n",
    "test.id = seq(round(length(data$Time) *.8,0)+1,length(data$Time),1)\n",
    "\n",
    "# checking if data split 20% for testing\n",
    "length(test.id)/(length(train.id)+length(test.id))"
   ]
  },
  {
   "cell_type": "code",
   "execution_count": 9,
   "metadata": {
    "vscode": {
     "languageId": "r"
    }
   },
   "outputs": [],
   "source": [
    "train = data[train.id,]\n",
    "test = data[test.id,]\n",
    "\n",
    "z = length(train.id)"
   ]
  },
  {
   "attachments": {},
   "cell_type": "markdown",
   "metadata": {},
   "source": [
    "## Converting Features to Time Series"
   ]
  },
  {
   "cell_type": "code",
   "execution_count": 10,
   "metadata": {
    "vscode": {
     "languageId": "r"
    }
   },
   "outputs": [],
   "source": [
    "speed = ts(data$Speed_ms)\n",
    "temp = ts(data$Temperature_C)\n",
    "power = ts(data$Power_Watt)\n",
    "hum = ts(data$Humidity)\n",
    "solar = ts(data$Solar_Irradiance_Wm2)"
   ]
  },
  {
   "attachments": {},
   "cell_type": "markdown",
   "metadata": {},
   "source": [
    "## Training the models\n",
    "Using ARIMA models to forecast future wind speed on the wind farm"
   ]
  },
  {
   "cell_type": "code",
   "execution_count": 11,
   "metadata": {
    "vscode": {
     "languageId": "r"
    }
   },
   "outputs": [
    {
     "data": {
      "text/plain": [
       "Series: speed[train.id] \n",
       "Regression with ARIMA(1,1,1) errors \n",
       "\n",
       "Coefficients:\n",
       "         ar1      ma1    xreg\n",
       "      0.4298  -0.7327  0.1269\n",
       "s.e.  0.1178   0.0897  0.0459\n",
       "\n",
       "sigma^2 = 0.08877:  log likelihood = -62.9\n",
       "AIC=133.81   AICc=133.94   BIC=148.74\n",
       "\n",
       "Training set error measures:\n",
       "                       ME      RMSE       MAE       MPE     MAPE     MASE\n",
       "Training set -0.003471318 0.2960175 0.2216598 -25.09847 42.74073 0.987228\n",
       "                     ACF1\n",
       "Training set -0.009541061"
      ]
     },
     "metadata": {},
     "output_type": "display_data"
    },
    {
     "data": {
      "text/plain": [
       "Series: speed[train.id] \n",
       "Regression with ARIMA(1,0,1) errors \n",
       "\n",
       "Coefficients:\n",
       "         ar1      ma1  intercept   xreg\n",
       "      0.9216  -0.2496     0.8541  3e-04\n",
       "s.e.  0.0257   0.0692     0.1805  1e-04\n",
       "\n",
       "sigma^2 = 0.08812:  log likelihood = -62.08\n",
       "AIC=134.16   AICc=134.35   BIC=152.84\n",
       "\n",
       "Training set error measures:\n",
       "                       ME      RMSE       MAE     MPE     MAPE      MASE\n",
       "Training set 0.0009465757 0.2949348 0.2236182 -30.775 47.68073 0.9959502\n",
       "                   ACF1\n",
       "Training set 0.01463145"
      ]
     },
     "metadata": {},
     "output_type": "display_data"
    },
    {
     "data": {
      "text/plain": [
       "Series: speed[train.id] \n",
       "Regression with ARIMA(1,0,1) errors \n",
       "\n",
       "Coefficients:\n",
       "         ar1      ma1  intercept    xreg1   xreg2   xreg3\n",
       "      0.9315  -0.2911     0.5850  -0.1400  0.0291  -8e-04\n",
       "s.e.  0.0280   0.0737     0.2399   0.0707  0.0112   4e-04\n",
       "\n",
       "sigma^2 = 0.08667:  log likelihood = -58.5\n",
       "AIC=131   AICc=131.37   BIC=157.16\n",
       "\n",
       "Training set error measures:\n",
       "                      ME      RMSE       MAE       MPE     MAPE      MASE\n",
       "Training set 0.004082249 0.2915296 0.2208283 -32.39336 51.03732 0.9835245\n",
       "                   ACF1\n",
       "Training set 0.01800389"
      ]
     },
     "metadata": {},
     "output_type": "display_data"
    }
   ],
   "source": [
    "mod1=auto.arima(y= speed[train.id], xreg= temp[train.id])\n",
    "mod2=auto.arima(y= speed[train.id], xreg= I(temp[train.id]^3))\n",
    "mod3=auto.arima(y= speed[train.id], xreg= cbind(temp[train.id], I(temp[train.id]^2), I(temp[train.id]^3)))\n",
    "\n",
    "summary(mod1)\n",
    "summary(mod2)\n",
    "summary(mod3) "
   ]
  },
  {
   "attachments": {},
   "cell_type": "markdown",
   "metadata": {},
   "source": [
    "## Testing the models"
   ]
  },
  {
   "cell_type": "code",
   "execution_count": 12,
   "metadata": {
    "vscode": {
     "languageId": "r"
    }
   },
   "outputs": [],
   "source": [
    "fcast1 = forecast(object=mod1,h=length(test.id), xreg=temp[test.id])$mean\n",
    "fcast2 = forecast(object=mod2,h=length(test.id), xreg=I(temp[test.id]^3))$mean\n",
    "fcast3 = forecast(object=mod3, h=length(test.id), xreg= cbind(temp[test.id], I(temp[test.id]^2), I(temp[test.id]^3)))$mean\n",
    "fcast4 = rep(data$Speed_ms[z],length(test.id))"
   ]
  },
  {
   "cell_type": "code",
   "execution_count": 13,
   "metadata": {
    "vscode": {
     "languageId": "r"
    }
   },
   "outputs": [
    {
     "data": {
      "text/html": [
       "A Time Series:<br><style>\n",
       ".list-inline {list-style: none; margin:0; padding: 0}\n",
       ".list-inline>li {display: inline-block}\n",
       ".list-inline>li:not(:last-child)::after {content: \"\\00b7\"; padding: 0 .5ex}\n",
       "</style>\n",
       "<ol class=list-inline><li>2.9930992494778</li><li>3.02121395157674</li><li>3.03764970546758</li><li>3.03800128504407</li><li>3.04287203926755</li><li>3.04895067227462</li></ol>\n"
      ],
      "text/latex": [
       "A Time Series:\\\\\\begin{enumerate*}\n",
       "\\item 2.9930992494778\n",
       "\\item 3.02121395157674\n",
       "\\item 3.03764970546758\n",
       "\\item 3.03800128504407\n",
       "\\item 3.04287203926755\n",
       "\\item 3.04895067227462\n",
       "\\end{enumerate*}\n"
      ],
      "text/markdown": [
       "A Time Series:  \n",
       "1. 2.9930992494778\n",
       "2. 3.02121395157674\n",
       "3. 3.03764970546758\n",
       "4. 3.03800128504407\n",
       "5. 3.04287203926755\n",
       "6. 3.04895067227462\n",
       "\n",
       "\n"
      ],
      "text/plain": [
       "A Time Series:\n",
       "[1] 2.993099 3.021214 3.037650 3.038001 3.042872 3.048951"
      ]
     },
     "metadata": {},
     "output_type": "display_data"
    },
    {
     "data": {
      "text/html": [
       "A Time Series:<br><style>\n",
       ".list-inline {list-style: none; margin:0; padding: 0}\n",
       ".list-inline>li {display: inline-block}\n",
       ".list-inline>li:not(:last-child)::after {content: \"\\00b7\"; padding: 0 .5ex}\n",
       "</style>\n",
       "<ol class=list-inline><li>3.10878862214263</li><li>3.12640974664714</li><li>3.1579053449065</li><li>3.1606187660976</li><li>3.18522645731338</li><li>3.21633254711315</li></ol>\n"
      ],
      "text/latex": [
       "A Time Series:\\\\\\begin{enumerate*}\n",
       "\\item 3.10878862214263\n",
       "\\item 3.12640974664714\n",
       "\\item 3.1579053449065\n",
       "\\item 3.1606187660976\n",
       "\\item 3.18522645731338\n",
       "\\item 3.21633254711315\n",
       "\\end{enumerate*}\n"
      ],
      "text/markdown": [
       "A Time Series:  \n",
       "1. 3.10878862214263\n",
       "2. 3.12640974664714\n",
       "3. 3.1579053449065\n",
       "4. 3.1606187660976\n",
       "5. 3.18522645731338\n",
       "6. 3.21633254711315\n",
       "\n",
       "\n"
      ],
      "text/plain": [
       "A Time Series:\n",
       "[1] 3.108789 3.126410 3.157905 3.160619 3.185226 3.216333"
      ]
     },
     "metadata": {},
     "output_type": "display_data"
    },
    {
     "data": {
      "text/html": [
       "A Time Series:<br><style>\n",
       ".list-inline {list-style: none; margin:0; padding: 0}\n",
       ".list-inline>li {display: inline-block}\n",
       ".list-inline>li:not(:last-child)::after {content: \"\\00b7\"; padding: 0 .5ex}\n",
       "</style>\n",
       "<ol class=list-inline><li>3.07412576370835</li><li>3.06947488838485</li><li>3.06853195362525</li><li>3.06179442810711</li><li>3.06046715222056</li><li>3.06104047052686</li></ol>\n"
      ],
      "text/latex": [
       "A Time Series:\\\\\\begin{enumerate*}\n",
       "\\item 3.07412576370835\n",
       "\\item 3.06947488838485\n",
       "\\item 3.06853195362525\n",
       "\\item 3.06179442810711\n",
       "\\item 3.06046715222056\n",
       "\\item 3.06104047052686\n",
       "\\end{enumerate*}\n"
      ],
      "text/markdown": [
       "A Time Series:  \n",
       "1. 3.07412576370835\n",
       "2. 3.06947488838485\n",
       "3. 3.06853195362525\n",
       "4. 3.06179442810711\n",
       "5. 3.06046715222056\n",
       "6. 3.06104047052686\n",
       "\n",
       "\n"
      ],
      "text/plain": [
       "A Time Series:\n",
       "[1] 3.074126 3.069475 3.068532 3.061794 3.060467 3.061040"
      ]
     },
     "metadata": {},
     "output_type": "display_data"
    },
    {
     "data": {
      "text/html": [
       "<style>\n",
       ".list-inline {list-style: none; margin:0; padding: 0}\n",
       ".list-inline>li {display: inline-block}\n",
       ".list-inline>li:not(:last-child)::after {content: \"\\00b7\"; padding: 0 .5ex}\n",
       "</style>\n",
       "<ol class=list-inline><li>2.926</li><li>2.926</li><li>2.926</li><li>2.926</li><li>2.926</li><li>2.926</li></ol>\n"
      ],
      "text/latex": [
       "\\begin{enumerate*}\n",
       "\\item 2.926\n",
       "\\item 2.926\n",
       "\\item 2.926\n",
       "\\item 2.926\n",
       "\\item 2.926\n",
       "\\item 2.926\n",
       "\\end{enumerate*}\n"
      ],
      "text/markdown": [
       "1. 2.926\n",
       "2. 2.926\n",
       "3. 2.926\n",
       "4. 2.926\n",
       "5. 2.926\n",
       "6. 2.926\n",
       "\n",
       "\n"
      ],
      "text/plain": [
       "[1] 2.926 2.926 2.926 2.926 2.926 2.926"
      ]
     },
     "metadata": {},
     "output_type": "display_data"
    }
   ],
   "source": [
    "head(fcast1)\n",
    "head(fcast2)\n",
    "head(fcast3)\n",
    "head(fcast4)"
   ]
  },
  {
   "attachments": {},
   "cell_type": "markdown",
   "metadata": {},
   "source": [
    "## Calculating the Normalized Root Mean Square Error for each forecast"
   ]
  },
  {
   "cell_type": "code",
   "execution_count": 14,
   "metadata": {
    "vscode": {
     "languageId": "r"
    }
   },
   "outputs": [
    {
     "data": {
      "text/html": [
       "19.7742419274454"
      ],
      "text/latex": [
       "19.7742419274454"
      ],
      "text/markdown": [
       "19.7742419274454"
      ],
      "text/plain": [
       "[1] 19.77424"
      ]
     },
     "metadata": {},
     "output_type": "display_data"
    },
    {
     "data": {
      "text/html": [
       "18.5458083568655"
      ],
      "text/latex": [
       "18.5458083568655"
      ],
      "text/markdown": [
       "18.5458083568655"
      ],
      "text/plain": [
       "[1] 18.54581"
      ]
     },
     "metadata": {},
     "output_type": "display_data"
    },
    {
     "data": {
      "text/html": [
       "19.7965930463678"
      ],
      "text/latex": [
       "19.7965930463678"
      ],
      "text/markdown": [
       "19.7965930463678"
      ],
      "text/plain": [
       "[1] 19.79659"
      ]
     },
     "metadata": {},
     "output_type": "display_data"
    },
    {
     "data": {
      "text/html": [
       "20.6147955610818"
      ],
      "text/latex": [
       "20.6147955610818"
      ],
      "text/markdown": [
       "20.6147955610818"
      ],
      "text/plain": [
       "[1] 20.6148"
      ]
     },
     "metadata": {},
     "output_type": "display_data"
    }
   ],
   "source": [
    "#NRMSE \n",
    "100*sqrt(mean((fcast1 - test$Speed_ms)^2))/(max(train$Speed_ms,na.rm=T) - min(train$Speed_ms,na.rm=T))\n",
    "100*sqrt(mean((fcast2 - test$Speed_ms)^2))/(max(train$Speed_ms,na.rm=T) - min(train$Speed_ms,na.rm=T))\n",
    "100*sqrt(mean((fcast3 - test$Speed_ms)^2))/(max(train$Speed_ms,na.rm=T) - min(train$Speed_ms,na.rm=T))\n",
    "100*sqrt(mean((fcast4 - test$Speed_ms)^2))/(max(train$Speed_ms,na.rm=T) - min(train$Speed_ms,na.rm=T))\n"
   ]
  },
  {
   "attachments": {},
   "cell_type": "markdown",
   "metadata": {},
   "source": [
    "### Plotting the Forecasts"
   ]
  },
  {
   "cell_type": "code",
   "execution_count": 15,
   "metadata": {
    "vscode": {
     "languageId": "r"
    }
   },
   "outputs": [
    {
     "data": {
      "image/png": "[encoded data removed]",
      "text/plain": [
       "Plot with title \"Wind Speed Over Time\""
      ]
     },
     "metadata": {
      "image/png": {
       "height": 600,
       "width": 600
      }
     },
     "output_type": "display_data"
    }
   ],
   "source": [
    "plot(seq(250,length(data$Time),1),data$Speed_ms[250:length(data$Time)],type=\"l\",lwd=3,xlab=\"Time\",panel.first=grid(),ylab=\"Speed (m/s)\", main=\"Wind Speed Over Time\",cex=1.2,cex.lab=1.2,cex.axis=1.2)\n",
    "abline(v=z,lty=2)\n",
    "lines(seq(z,length(data$Time),1),c(data$Speed_ms[z],fcast1),col=\"red\",lwd=3)\n",
    "lines(seq(z,length(data$Time),1),c(data$Speed_ms[z],fcast2),col=\"green\",lwd=3)\n",
    "lines(seq(z,length(data$Time),1),c(data$Speed_ms[z],fcast3),col=\"blue\",lwd=3)\n",
    "lines(seq(z,length(data$Time),1),c(data$Speed_ms[z],fcast4),col=\"gray\",lwd=3)\n",
    "legend(legend=c(\"Actual Wind Speed\",\"Forecast 1\",\"Forecast 2\", \"Forecast 3\", \"Persistence Forecast\"), \n",
    "       col=c(\"black\",\"red\", \"green\", \"blue\" , \"gray\"),\"bottomright\", lwd=3, cex=0.6)"
   ]
  },
  {
   "attachments": {},
   "cell_type": "markdown",
   "metadata": {},
   "source": [
    "## Final Forecast"
   ]
  },
  {
   "cell_type": "code",
   "execution_count": 16,
   "metadata": {
    "vscode": {
     "languageId": "r"
    }
   },
   "outputs": [
    {
     "data": {
      "text/plain": [
       "Series: speed \n",
       "Regression with ARIMA(1,0,1) errors \n",
       "\n",
       "Coefficients:\n",
       "         ar1      ma1  intercept   xreg\n",
       "      0.9282  -0.2896     0.7658  4e-04\n",
       "s.e.  0.0224   0.0609     0.1970  1e-04\n",
       "\n",
       "sigma^2 = 0.1006:  log likelihood = -103.38\n",
       "AIC=216.76   AICc=216.92   BIC=236.55\n",
       "\n",
       "Training set error measures:\n",
       "                       ME      RMSE       MAE       MPE     MAPE      MASE\n",
       "Training set 0.0001020993 0.3154772 0.2391574 -24.06912 39.79665 0.9636798\n",
       "                   ACF1\n",
       "Training set 0.01948333"
      ]
     },
     "metadata": {},
     "output_type": "display_data"
    }
   ],
   "source": [
    "fin.mod = auto.arima(y = speed, xreg= I(temp^3))\n",
    "summary(fin.mod)"
   ]
  },
  {
   "cell_type": "code",
   "execution_count": 17,
   "metadata": {
    "vscode": {
     "languageId": "r"
    }
   },
   "outputs": [
    {
     "data": {
      "text/html": [
       "A Time Series:<br><style>\n",
       ".list-inline {list-style: none; margin:0; padding: 0}\n",
       ".list-inline>li {display: inline-block}\n",
       ".list-inline>li:not(:last-child)::after {content: \"\\00b7\"; padding: 0 .5ex}\n",
       "</style>\n",
       "<ol class=list-inline><li>3.27934044726648</li><li>3.45793516560454</li><li>3.5485926721523</li><li>3.46419173948446</li><li>3.42307010836319</li><li>3.46172133704502</li></ol>\n"
      ],
      "text/latex": [
       "A Time Series:\\\\\\begin{enumerate*}\n",
       "\\item 3.27934044726648\n",
       "\\item 3.45793516560454\n",
       "\\item 3.5485926721523\n",
       "\\item 3.46419173948446\n",
       "\\item 3.42307010836319\n",
       "\\item 3.46172133704502\n",
       "\\end{enumerate*}\n"
      ],
      "text/markdown": [
       "A Time Series:  \n",
       "1. 3.27934044726648\n",
       "2. 3.45793516560454\n",
       "3. 3.5485926721523\n",
       "4. 3.46419173948446\n",
       "5. 3.42307010836319\n",
       "6. 3.46172133704502\n",
       "\n",
       "\n"
      ],
      "text/plain": [
       "A Time Series:\n",
       "[1] 3.279340 3.457935 3.548593 3.464192 3.423070 3.461721"
      ]
     },
     "metadata": {},
     "output_type": "display_data"
    }
   ],
   "source": [
    "fin.ff= forecast(object=fin.mod,h=130, xreg=I(ts(test_data$Temperature_C)^3))$mean\n",
    "head(fin.ff)"
   ]
  },
  {
   "attachments": {},
   "cell_type": "markdown",
   "metadata": {},
   "source": [
    "### Creating a Persistence Forecast to Benchmark Against"
   ]
  },
  {
   "cell_type": "code",
   "execution_count": 18,
   "metadata": {
    "vscode": {
     "languageId": "r"
    }
   },
   "outputs": [
    {
     "data": {
      "text/html": [
       "<style>\n",
       ".list-inline {list-style: none; margin:0; padding: 0}\n",
       ".list-inline>li {display: inline-block}\n",
       ".list-inline>li:not(:last-child)::after {content: \"\\00b7\"; padding: 0 .5ex}\n",
       "</style>\n",
       "<ol class=list-inline><li>3.113</li><li>3.113</li><li>3.113</li><li>3.113</li><li>3.113</li><li>3.113</li></ol>\n"
      ],
      "text/latex": [
       "\\begin{enumerate*}\n",
       "\\item 3.113\n",
       "\\item 3.113\n",
       "\\item 3.113\n",
       "\\item 3.113\n",
       "\\item 3.113\n",
       "\\item 3.113\n",
       "\\end{enumerate*}\n"
      ],
      "text/markdown": [
       "1. 3.113\n",
       "2. 3.113\n",
       "3. 3.113\n",
       "4. 3.113\n",
       "5. 3.113\n",
       "6. 3.113\n",
       "\n",
       "\n"
      ],
      "text/plain": [
       "[1] 3.113 3.113 3.113 3.113 3.113 3.113"
      ]
     },
     "metadata": {},
     "output_type": "display_data"
    },
    {
     "data": {
      "text/html": [
       "130"
      ],
      "text/latex": [
       "130"
      ],
      "text/markdown": [
       "130"
      ],
      "text/plain": [
       "[1] 130"
      ]
     },
     "metadata": {},
     "output_type": "display_data"
    },
    {
     "data": {
      "text/html": [
       "130"
      ],
      "text/latex": [
       "130"
      ],
      "text/markdown": [
       "130"
      ],
      "text/plain": [
       "[1] 130"
      ]
     },
     "metadata": {},
     "output_type": "display_data"
    }
   ],
   "source": [
    "fin.per =rep(speed[387],130) # persistence forecast\n",
    "head(fin.per)\n",
    "\n",
    "## Checking to see if the forecast are the same length\n",
    "length(fin.per)\n",
    "length(fin.ff)"
   ]
  },
  {
   "attachments": {},
   "cell_type": "markdown",
   "metadata": {},
   "source": [
    "### Plotting the ARIMA forecast vs persistence forecast"
   ]
  },
  {
   "cell_type": "code",
   "execution_count": 19,
   "metadata": {
    "vscode": {
     "languageId": "r"
    }
   },
   "outputs": [
    {
     "data": {
      "image/png": "[encoded data removed]",
      "text/plain": [
       "Plot with title \"Final Forecast of Wind Speed\""
      ]
     },
     "metadata": {
      "image/png": {
       "height": 600,
       "width": 600
      }
     },
     "output_type": "display_data"
    }
   ],
   "source": [
    "ts.plot(fin.ff, fin.per, col=c(\"green\",\"gray\"), gpars=list(lwd=3, main=\"Final Forecast of Wind Speed\",xlab=\"Time\",ylab=\"Speed (m/s)\",cex=1.2,cex.lab=1.2,cex.axis=1.2))\n",
    "legend(legend = c(\"Final Forecast\",\"Persistence Forecast\"), col=c(\"green\", \"gray\"), \"bottomleft\", lwd=2, cex=0.7)"
   ]
  },
  {
   "attachments": {},
   "cell_type": "markdown",
   "metadata": {},
   "source": [
    "## Model Building"
   ]
  },
  {
   "attachments": {},
   "cell_type": "markdown",
   "metadata": {},
   "source": [
    "### Formulating the features and the target for the following model"
   ]
  },
  {
   "cell_type": "code",
   "execution_count": 20,
   "metadata": {
    "vscode": {
     "languageId": "r"
    }
   },
   "outputs": [
    {
     "data": {
      "text/html": [
       "<table class=\"dataframe\">\n",
       "<caption>A matrix: 6 × 1 of type dbl</caption>\n",
       "<thead>\n",
       "\t<tr><th scope=col>data.Power_Watt</th></tr>\n",
       "</thead>\n",
       "<tbody>\n",
       "\t<tr><td>-0.69527077</td></tr>\n",
       "\t<tr><td>-0.26894369</td></tr>\n",
       "\t<tr><td>-0.03266857</td></tr>\n",
       "\t<tr><td> 0.39081452</td></tr>\n",
       "\t<tr><td>-0.47008277</td></tr>\n",
       "\t<tr><td> 0.60388749</td></tr>\n",
       "</tbody>\n",
       "</table>\n"
      ],
      "text/latex": [
       "A matrix: 6 × 1 of type dbl\n",
       "\\begin{tabular}{l}\n",
       " data.Power\\_Watt\\\\\n",
       "\\hline\n",
       "\t -0.69527077\\\\\n",
       "\t -0.26894369\\\\\n",
       "\t -0.03266857\\\\\n",
       "\t  0.39081452\\\\\n",
       "\t -0.47008277\\\\\n",
       "\t  0.60388749\\\\\n",
       "\\end{tabular}\n"
      ],
      "text/markdown": [
       "\n",
       "A matrix: 6 × 1 of type dbl\n",
       "\n",
       "| data.Power_Watt |\n",
       "|---|\n",
       "| -0.69527077 |\n",
       "| -0.26894369 |\n",
       "| -0.03266857 |\n",
       "|  0.39081452 |\n",
       "| -0.47008277 |\n",
       "|  0.60388749 |\n",
       "\n"
      ],
      "text/plain": [
       "     data.Power_Watt\n",
       "[1,] -0.69527077    \n",
       "[2,] -0.26894369    \n",
       "[3,] -0.03266857    \n",
       "[4,]  0.39081452    \n",
       "[5,] -0.47008277    \n",
       "[6,]  0.60388749    "
      ]
     },
     "metadata": {},
     "output_type": "display_data"
    },
    {
     "data": {
      "text/html": [
       "<table class=\"dataframe\">\n",
       "<caption>A matrix: 6 × 4 of type dbl</caption>\n",
       "<thead>\n",
       "\t<tr><th scope=col>data.Speed_ms</th><th scope=col>data.Speed_ms.2</th><th scope=col>data.Speed_ms.3</th><th scope=col>data.Temperature_C</th></tr>\n",
       "</thead>\n",
       "<tbody>\n",
       "\t<tr><td>0.743</td><td>0.552049</td><td>0.41017241</td><td>-3.092</td></tr>\n",
       "\t<tr><td>0.458</td><td>0.209764</td><td>0.09607191</td><td>-2.813</td></tr>\n",
       "\t<tr><td>0.350</td><td>0.122500</td><td>0.04287500</td><td>-2.219</td></tr>\n",
       "\t<tr><td>0.598</td><td>0.357604</td><td>0.21384719</td><td>-1.933</td></tr>\n",
       "\t<tr><td>0.809</td><td>0.654481</td><td>0.52947513</td><td>-2.249</td></tr>\n",
       "\t<tr><td>0.822</td><td>0.675684</td><td>0.55541225</td><td>-2.279</td></tr>\n",
       "</tbody>\n",
       "</table>\n"
      ],
      "text/latex": [
       "A matrix: 6 × 4 of type dbl\n",
       "\\begin{tabular}{llll}\n",
       " data.Speed\\_ms & data.Speed\\_ms.2 & data.Speed\\_ms.3 & data.Temperature\\_C\\\\\n",
       "\\hline\n",
       "\t 0.743 & 0.552049 & 0.41017241 & -3.092\\\\\n",
       "\t 0.458 & 0.209764 & 0.09607191 & -2.813\\\\\n",
       "\t 0.350 & 0.122500 & 0.04287500 & -2.219\\\\\n",
       "\t 0.598 & 0.357604 & 0.21384719 & -1.933\\\\\n",
       "\t 0.809 & 0.654481 & 0.52947513 & -2.249\\\\\n",
       "\t 0.822 & 0.675684 & 0.55541225 & -2.279\\\\\n",
       "\\end{tabular}\n"
      ],
      "text/markdown": [
       "\n",
       "A matrix: 6 × 4 of type dbl\n",
       "\n",
       "| data.Speed_ms | data.Speed_ms.2 | data.Speed_ms.3 | data.Temperature_C |\n",
       "|---|---|---|---|\n",
       "| 0.743 | 0.552049 | 0.41017241 | -3.092 |\n",
       "| 0.458 | 0.209764 | 0.09607191 | -2.813 |\n",
       "| 0.350 | 0.122500 | 0.04287500 | -2.219 |\n",
       "| 0.598 | 0.357604 | 0.21384719 | -1.933 |\n",
       "| 0.809 | 0.654481 | 0.52947513 | -2.249 |\n",
       "| 0.822 | 0.675684 | 0.55541225 | -2.279 |\n",
       "\n"
      ],
      "text/plain": [
       "     data.Speed_ms data.Speed_ms.2 data.Speed_ms.3 data.Temperature_C\n",
       "[1,] 0.743         0.552049        0.41017241      -3.092            \n",
       "[2,] 0.458         0.209764        0.09607191      -2.813            \n",
       "[3,] 0.350         0.122500        0.04287500      -2.219            \n",
       "[4,] 0.598         0.357604        0.21384719      -1.933            \n",
       "[5,] 0.809         0.654481        0.52947513      -2.249            \n",
       "[6,] 0.822         0.675684        0.55541225      -2.279            "
      ]
     },
     "metadata": {},
     "output_type": "display_data"
    }
   ],
   "source": [
    "df2 = data.frame(data$Speed_ms,data$Speed_ms^2,data$Speed_ms^3,data$Temperature_C,data$Power_Watt,data$Humidity)\n",
    "y = data.matrix(df2[5])\n",
    "head(y)\n",
    "\n",
    "x = data.matrix(df2[1:4])\n",
    "head(x)"
   ]
  },
  {
   "attachments": {},
   "cell_type": "markdown",
   "metadata": {},
   "source": [
    "### Splitting train and test data (80:20) \n"
   ]
  },
  {
   "cell_type": "code",
   "execution_count": 21,
   "metadata": {
    "vscode": {
     "languageId": "r"
    }
   },
   "outputs": [],
   "source": [
    "set.seed(123)\n",
    "train.id = sample(1:length(df2$data.Speed_ms),size=0.8*length(df2$data.Speed_ms))\n",
    "x.train = x[train.id,]\n",
    "x.test = x[-train.id,]\n",
    "y.train = y[train.id,]\n",
    "y.test = y[-train.id,]"
   ]
  },
  {
   "attachments": {},
   "cell_type": "markdown",
   "metadata": {},
   "source": [
    "### Training Elastic-Net Regression Model"
   ]
  },
  {
   "cell_type": "code",
   "execution_count": 22,
   "metadata": {
    "vscode": {
     "languageId": "r"
    }
   },
   "outputs": [
    {
     "data": {
      "text/plain": [
       "           Length Class  Mode     \n",
       "lambda     100    -none- numeric  \n",
       "cvm        100    -none- numeric  \n",
       "cvsd       100    -none- numeric  \n",
       "cvup       100    -none- numeric  \n",
       "cvlo       100    -none- numeric  \n",
       "nzero      100    -none- numeric  \n",
       "call         6    -none- call     \n",
       "name         1    -none- character\n",
       "glmnet.fit  12    elnet  list     \n",
       "lambda.min   1    -none- numeric  \n",
       "lambda.1se   1    -none- numeric  \n",
       "index        2    -none- numeric  "
      ]
     },
     "metadata": {},
     "output_type": "display_data"
    },
    {
     "data": {
      "image/png": "[encoded data removed]",
      "text/plain": [
       "plot without title"
      ]
     },
     "metadata": {
      "image/png": {
       "height": 600,
       "width": 600
      }
     },
     "output_type": "display_data"
    }
   ],
   "source": [
    "set.seed(123)\n",
    "elastic.net =cv.glmnet(x.train, y.train, alpha = 0.5, type.measure = \"mse\", family=\"gaussian\") # 10 fold cross validation\n",
    "summary(elastic.net)\n",
    "plot(elastic.net)"
   ]
  },
  {
   "attachments": {},
   "cell_type": "markdown",
   "metadata": {},
   "source": [
    "### Prediction and evaluation"
   ]
  },
  {
   "cell_type": "code",
   "execution_count": 23,
   "metadata": {
    "vscode": {
     "languageId": "r"
    }
   },
   "outputs": [
    {
     "name": "stdout",
     "output_type": "stream",
     "text": [
      "[1] \"Mean Square Error: 15.4343039169961\"\n",
      "[1] \"Normalized Root Mean Square Error: 3.81297973583338\"\n"
     ]
    }
   ],
   "source": [
    "pred.elastic = predict(elastic.net, s=elastic.net$lambda.1se, newx=x.test)\n",
    "MSE.elastic = mean((y.test-pred.elastic)^2)\n",
    "\n",
    "print(paste('Mean Square Error:', MSE.elastic))\n",
    "\n",
    "# NRMSE of elastic-net model\n",
    "NRMSE.elastic = 100*sqrt(MSE.elastic)/(max(x.train,na.rm=T) - min(x.train,na.rm=T)) \n",
    "print(paste('Normalized Root Mean Square Error:', NRMSE.elastic))"
   ]
  },
  {
   "attachments": {},
   "cell_type": "markdown",
   "metadata": {},
   "source": [
    "### Training the model on all the data"
   ]
  },
  {
   "cell_type": "code",
   "execution_count": 24,
   "metadata": {
    "vscode": {
     "languageId": "r"
    }
   },
   "outputs": [
    {
     "data": {
      "text/plain": [
       "5 x 1 sparse Matrix of class \"dgCMatrix\"\n",
       "                           s1\n",
       "(Intercept)        -2.0112601\n",
       "data.Speed_ms      -1.4785065\n",
       "data.Speed_ms.2     5.4336392\n",
       "data.Speed_ms.3    -0.3914785\n",
       "data.Temperature_C  0.1066052"
      ]
     },
     "metadata": {},
     "output_type": "display_data"
    }
   ],
   "source": [
    "lam_elastic.net = elastic.net$lambda.1se\n",
    "fin_elastic.net = glmnet(x, y, alpha = 0.5, family=\"gaussian\")\n",
    "coef_elastic.net = predict(fin_elastic.net, type = \"coefficients\", s=lam_elastic.net)\n",
    "best_elastic.net = elastic.net$glmnet.fit\n",
    "coef_elastic.net"
   ]
  },
  {
   "attachments": {},
   "cell_type": "markdown",
   "metadata": {},
   "source": [
    "## Final Prediction"
   ]
  },
  {
   "attachments": {},
   "cell_type": "markdown",
   "metadata": {},
   "source": [
    "### Refining the variables for final prediction"
   ]
  },
  {
   "cell_type": "code",
   "execution_count": 25,
   "metadata": {
    "vscode": {
     "languageId": "r"
    }
   },
   "outputs": [
    {
     "data": {
      "text/html": [
       "<table class=\"dataframe\">\n",
       "<caption>A data.frame: 6 × 4</caption>\n",
       "<thead>\n",
       "\t<tr><th></th><th scope=col>fin.ff</th><th scope=col>fin.ff.2</th><th scope=col>fin.ff.3</th><th scope=col>test_data.Temperature_C</th></tr>\n",
       "\t<tr><th></th><th scope=col>&lt;dbl&gt;</th><th scope=col>&lt;dbl&gt;</th><th scope=col>&lt;dbl&gt;</th><th scope=col>&lt;dbl&gt;</th></tr>\n",
       "</thead>\n",
       "<tbody>\n",
       "\t<tr><th scope=row>1</th><td>3.279340</td><td>10.75407</td><td>35.26627</td><td>18.81</td></tr>\n",
       "\t<tr><th scope=row>2</th><td>3.457935</td><td>11.95732</td><td>41.34762</td><td>19.24</td></tr>\n",
       "\t<tr><th scope=row>3</th><td>3.548593</td><td>12.59251</td><td>44.68569</td><td>19.45</td></tr>\n",
       "\t<tr><th scope=row>4</th><td>3.464192</td><td>12.00062</td><td>41.57246</td><td>19.25</td></tr>\n",
       "\t<tr><th scope=row>5</th><td>3.423070</td><td>11.71741</td><td>40.10951</td><td>19.15</td></tr>\n",
       "\t<tr><th scope=row>6</th><td>3.461721</td><td>11.98351</td><td>41.48359</td><td>19.24</td></tr>\n",
       "</tbody>\n",
       "</table>\n"
      ],
      "text/latex": [
       "A data.frame: 6 × 4\n",
       "\\begin{tabular}{r|llll}\n",
       "  & fin.ff & fin.ff.2 & fin.ff.3 & test\\_data.Temperature\\_C\\\\\n",
       "  & <dbl> & <dbl> & <dbl> & <dbl>\\\\\n",
       "\\hline\n",
       "\t1 & 3.279340 & 10.75407 & 35.26627 & 18.81\\\\\n",
       "\t2 & 3.457935 & 11.95732 & 41.34762 & 19.24\\\\\n",
       "\t3 & 3.548593 & 12.59251 & 44.68569 & 19.45\\\\\n",
       "\t4 & 3.464192 & 12.00062 & 41.57246 & 19.25\\\\\n",
       "\t5 & 3.423070 & 11.71741 & 40.10951 & 19.15\\\\\n",
       "\t6 & 3.461721 & 11.98351 & 41.48359 & 19.24\\\\\n",
       "\\end{tabular}\n"
      ],
      "text/markdown": [
       "\n",
       "A data.frame: 6 × 4\n",
       "\n",
       "| <!--/--> | fin.ff &lt;dbl&gt; | fin.ff.2 &lt;dbl&gt; | fin.ff.3 &lt;dbl&gt; | test_data.Temperature_C &lt;dbl&gt; |\n",
       "|---|---|---|---|---|\n",
       "| 1 | 3.279340 | 10.75407 | 35.26627 | 18.81 |\n",
       "| 2 | 3.457935 | 11.95732 | 41.34762 | 19.24 |\n",
       "| 3 | 3.548593 | 12.59251 | 44.68569 | 19.45 |\n",
       "| 4 | 3.464192 | 12.00062 | 41.57246 | 19.25 |\n",
       "| 5 | 3.423070 | 11.71741 | 40.10951 | 19.15 |\n",
       "| 6 | 3.461721 | 11.98351 | 41.48359 | 19.24 |\n",
       "\n"
      ],
      "text/plain": [
       "  fin.ff   fin.ff.2 fin.ff.3 test_data.Temperature_C\n",
       "1 3.279340 10.75407 35.26627 18.81                  \n",
       "2 3.457935 11.95732 41.34762 19.24                  \n",
       "3 3.548593 12.59251 44.68569 19.45                  \n",
       "4 3.464192 12.00062 41.57246 19.25                  \n",
       "5 3.423070 11.71741 40.10951 19.15                  \n",
       "6 3.461721 11.98351 41.48359 19.24                  "
      ]
     },
     "metadata": {},
     "output_type": "display_data"
    },
    {
     "data": {
      "text/html": [
       "<table class=\"dataframe\">\n",
       "<caption>A matrix: 6 × 4 of type dbl</caption>\n",
       "<thead>\n",
       "\t<tr><th scope=col>fin.ff</th><th scope=col>fin.ff.2</th><th scope=col>fin.ff.3</th><th scope=col>test_data.Temperature_C</th></tr>\n",
       "</thead>\n",
       "<tbody>\n",
       "\t<tr><td>3.279340</td><td>10.75407</td><td>35.26627</td><td>18.81</td></tr>\n",
       "\t<tr><td>3.457935</td><td>11.95732</td><td>41.34762</td><td>19.24</td></tr>\n",
       "\t<tr><td>3.548593</td><td>12.59251</td><td>44.68569</td><td>19.45</td></tr>\n",
       "\t<tr><td>3.464192</td><td>12.00062</td><td>41.57246</td><td>19.25</td></tr>\n",
       "\t<tr><td>3.423070</td><td>11.71741</td><td>40.10951</td><td>19.15</td></tr>\n",
       "\t<tr><td>3.461721</td><td>11.98351</td><td>41.48359</td><td>19.24</td></tr>\n",
       "</tbody>\n",
       "</table>\n"
      ],
      "text/latex": [
       "A matrix: 6 × 4 of type dbl\n",
       "\\begin{tabular}{llll}\n",
       " fin.ff & fin.ff.2 & fin.ff.3 & test\\_data.Temperature\\_C\\\\\n",
       "\\hline\n",
       "\t 3.279340 & 10.75407 & 35.26627 & 18.81\\\\\n",
       "\t 3.457935 & 11.95732 & 41.34762 & 19.24\\\\\n",
       "\t 3.548593 & 12.59251 & 44.68569 & 19.45\\\\\n",
       "\t 3.464192 & 12.00062 & 41.57246 & 19.25\\\\\n",
       "\t 3.423070 & 11.71741 & 40.10951 & 19.15\\\\\n",
       "\t 3.461721 & 11.98351 & 41.48359 & 19.24\\\\\n",
       "\\end{tabular}\n"
      ],
      "text/markdown": [
       "\n",
       "A matrix: 6 × 4 of type dbl\n",
       "\n",
       "| fin.ff | fin.ff.2 | fin.ff.3 | test_data.Temperature_C |\n",
       "|---|---|---|---|\n",
       "| 3.279340 | 10.75407 | 35.26627 | 18.81 |\n",
       "| 3.457935 | 11.95732 | 41.34762 | 19.24 |\n",
       "| 3.548593 | 12.59251 | 44.68569 | 19.45 |\n",
       "| 3.464192 | 12.00062 | 41.57246 | 19.25 |\n",
       "| 3.423070 | 11.71741 | 40.10951 | 19.15 |\n",
       "| 3.461721 | 11.98351 | 41.48359 | 19.24 |\n",
       "\n"
      ],
      "text/plain": [
       "     fin.ff   fin.ff.2 fin.ff.3 test_data.Temperature_C\n",
       "[1,] 3.279340 10.75407 35.26627 18.81                  \n",
       "[2,] 3.457935 11.95732 41.34762 19.24                  \n",
       "[3,] 3.548593 12.59251 44.68569 19.45                  \n",
       "[4,] 3.464192 12.00062 41.57246 19.25                  \n",
       "[5,] 3.423070 11.71741 40.10951 19.15                  \n",
       "[6,] 3.461721 11.98351 41.48359 19.24                  "
      ]
     },
     "metadata": {},
     "output_type": "display_data"
    }
   ],
   "source": [
    "df_fin = data.frame(fin.ff, fin.ff^2, fin.ff^3, test_data$Temperature_C)\n",
    "head(df_fin)\n",
    "matrix_test = data.matrix(df_fin)\n",
    "head(matrix_test)"
   ]
  },
  {
   "attachments": {},
   "cell_type": "markdown",
   "metadata": {},
   "source": [
    "### Prediction"
   ]
  },
  {
   "cell_type": "code",
   "execution_count": 26,
   "metadata": {
    "vscode": {
     "languageId": "r"
    }
   },
   "outputs": [
    {
     "data": {
      "text/html": [
       "<table class=\"dataframe\">\n",
       "<caption>A matrix: 6 × 1 of type dbl</caption>\n",
       "<thead>\n",
       "\t<tr><th scope=col>s1</th></tr>\n",
       "</thead>\n",
       "<tbody>\n",
       "\t<tr><td>39.73895</td></tr>\n",
       "\t<tr><td>43.66914</td></tr>\n",
       "\t<tr><td>45.69200</td></tr>\n",
       "\t<tr><td>43.80791</td></tr>\n",
       "\t<tr><td>42.89544</td></tr>\n",
       "\t<tr><td>43.75275</td></tr>\n",
       "</tbody>\n",
       "</table>\n"
      ],
      "text/latex": [
       "A matrix: 6 × 1 of type dbl\n",
       "\\begin{tabular}{l}\n",
       " s1\\\\\n",
       "\\hline\n",
       "\t 39.73895\\\\\n",
       "\t 43.66914\\\\\n",
       "\t 45.69200\\\\\n",
       "\t 43.80791\\\\\n",
       "\t 42.89544\\\\\n",
       "\t 43.75275\\\\\n",
       "\\end{tabular}\n"
      ],
      "text/markdown": [
       "\n",
       "A matrix: 6 × 1 of type dbl\n",
       "\n",
       "| s1 |\n",
       "|---|\n",
       "| 39.73895 |\n",
       "| 43.66914 |\n",
       "| 45.69200 |\n",
       "| 43.80791 |\n",
       "| 42.89544 |\n",
       "| 43.75275 |\n",
       "\n"
      ],
      "text/plain": [
       "     s1      \n",
       "[1,] 39.73895\n",
       "[2,] 43.66914\n",
       "[3,] 45.69200\n",
       "[4,] 43.80791\n",
       "[5,] 42.89544\n",
       "[6,] 43.75275"
      ]
     },
     "metadata": {},
     "output_type": "display_data"
    }
   ],
   "source": [
    "fin_pred = predict(best_elastic.net, s=lam_elastic.net, newx= matrix_test)\n",
    "head(fin_pred)"
   ]
  },
  {
   "attachments": {},
   "cell_type": "markdown",
   "metadata": {},
   "source": [
    "### Plot of Power Predictions"
   ]
  },
  {
   "cell_type": "code",
   "execution_count": 27,
   "metadata": {
    "vscode": {
     "languageId": "r"
    }
   },
   "outputs": [
    {
     "data": {
      "image/png": "[encoded data removed]",
      "text/plain": [
       "Plot with title \"Power Predictions\""
      ]
     },
     "metadata": {
      "image/png": {
       "height": 600,
       "width": 600
      }
     },
     "output_type": "display_data"
    }
   ],
   "source": [
    "plot(fin_pred,xlab=\"Observation\",ylab=\"Power (Watts)\",cex.main= 1.5,cex=1.2,cex.axis=1.2,cex.lab=1.2,pch=19,col=\"red\",panel.first=grid(), main= \"Power Predictions\")"
   ]
  },
  {
   "attachments": {},
   "cell_type": "markdown",
   "metadata": {},
   "source": [
    "### Storing the predictions"
   ]
  },
  {
   "cell_type": "code",
   "execution_count": 28,
   "metadata": {
    "vscode": {
     "languageId": "r"
    }
   },
   "outputs": [
    {
     "data": {
      "text/html": [
       "<table class=\"dataframe\">\n",
       "<caption>A data.frame: 6 × 2</caption>\n",
       "<thead>\n",
       "\t<tr><th></th><th scope=col>Speed_ms</th><th scope=col>Power_Watt</th></tr>\n",
       "\t<tr><th></th><th scope=col>&lt;dbl&gt;</th><th scope=col>&lt;dbl&gt;</th></tr>\n",
       "</thead>\n",
       "<tbody>\n",
       "\t<tr><th scope=row>1</th><td>3.279340</td><td>39.73895</td></tr>\n",
       "\t<tr><th scope=row>2</th><td>3.457935</td><td>43.66914</td></tr>\n",
       "\t<tr><th scope=row>3</th><td>3.548593</td><td>45.69200</td></tr>\n",
       "\t<tr><th scope=row>4</th><td>3.464192</td><td>43.80791</td></tr>\n",
       "\t<tr><th scope=row>5</th><td>3.423070</td><td>42.89544</td></tr>\n",
       "\t<tr><th scope=row>6</th><td>3.461721</td><td>43.75275</td></tr>\n",
       "</tbody>\n",
       "</table>\n"
      ],
      "text/latex": [
       "A data.frame: 6 × 2\n",
       "\\begin{tabular}{r|ll}\n",
       "  & Speed\\_ms & Power\\_Watt\\\\\n",
       "  & <dbl> & <dbl>\\\\\n",
       "\\hline\n",
       "\t1 & 3.279340 & 39.73895\\\\\n",
       "\t2 & 3.457935 & 43.66914\\\\\n",
       "\t3 & 3.548593 & 45.69200\\\\\n",
       "\t4 & 3.464192 & 43.80791\\\\\n",
       "\t5 & 3.423070 & 42.89544\\\\\n",
       "\t6 & 3.461721 & 43.75275\\\\\n",
       "\\end{tabular}\n"
      ],
      "text/markdown": [
       "\n",
       "A data.frame: 6 × 2\n",
       "\n",
       "| <!--/--> | Speed_ms &lt;dbl&gt; | Power_Watt &lt;dbl&gt; |\n",
       "|---|---|---|\n",
       "| 1 | 3.279340 | 39.73895 |\n",
       "| 2 | 3.457935 | 43.66914 |\n",
       "| 3 | 3.548593 | 45.69200 |\n",
       "| 4 | 3.464192 | 43.80791 |\n",
       "| 5 | 3.423070 | 42.89544 |\n",
       "| 6 | 3.461721 | 43.75275 |\n",
       "\n"
      ],
      "text/plain": [
       "  Speed_ms Power_Watt\n",
       "1 3.279340 39.73895  \n",
       "2 3.457935 43.66914  \n",
       "3 3.548593 45.69200  \n",
       "4 3.464192 43.80791  \n",
       "5 3.423070 42.89544  \n",
       "6 3.461721 43.75275  "
      ]
     },
     "metadata": {},
     "output_type": "display_data"
    }
   ],
   "source": [
    "final = data.frame(fin.ff, fin_pred)\n",
    "colnames(final) = c(\"Speed_ms\",\"Power_Watt\")\n",
    "head(final)"
   ]
  }
 ],
 "metadata": {
  "kernelspec": {
   "display_name": "R",
   "language": "R",
   "name": "ir"
  },
  "language_info": {
   "codemirror_mode": "r",
   "file_extension": ".r",
   "mimetype": "text/x-r-source",
   "name": "R",
   "pygments_lexer": "r",
   "version": "4.1.3"
  },
  "orig_nbformat": 4
 },
 "nbformat": 4,
 "nbformat_minor": 2
}
