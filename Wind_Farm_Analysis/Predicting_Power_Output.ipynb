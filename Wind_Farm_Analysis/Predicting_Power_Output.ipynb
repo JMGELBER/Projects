{
 "cells": [
  {
   "attachments": {},
   "cell_type": "markdown",
   "metadata": {},
   "source": [
    "## Import the data"
   ]
  },
  {
   "cell_type": "code",
   "execution_count": 1,
   "metadata": {
    "vscode": {
     "languageId": "r"
    }
   },
   "outputs": [
    {
     "data": {
      "text/html": [
       "<table>\n",
       "<thead><tr><th scope=col>X</th><th scope=col>Time</th><th scope=col>Speed_ms</th><th scope=col>Temperature_C</th><th scope=col>Humidity</th><th scope=col>Solar_Irradiance_Wm2</th><th scope=col>Power_Watt</th></tr></thead>\n",
       "<tbody>\n",
       "\t<tr><td>1                  </td><td>2020-01-09 10:00:00</td><td>0.743              </td><td>-3.092             </td><td>43.48              </td><td>59.48              </td><td>-0.69527077        </td></tr>\n",
       "\t<tr><td>2                  </td><td>2020-01-09 10:10:00</td><td>0.458              </td><td>-2.813             </td><td>42.88              </td><td>60.62              </td><td>-0.26894369        </td></tr>\n",
       "\t<tr><td>3                  </td><td>2020-01-09 10:20:00</td><td>0.350              </td><td>-2.219             </td><td>41.58              </td><td>66.71              </td><td>-0.03266857        </td></tr>\n",
       "\t<tr><td>4                  </td><td>2020-01-09 10:30:00</td><td>0.598              </td><td>-1.933             </td><td>40.30              </td><td>66.54              </td><td> 0.39081452        </td></tr>\n",
       "\t<tr><td>5                  </td><td>2020-01-09 10:40:00</td><td>0.809              </td><td>-2.249             </td><td>40.23              </td><td>64.71              </td><td>-0.47008277        </td></tr>\n",
       "\t<tr><td>6                  </td><td>2020-01-09 10:50:00</td><td>0.822              </td><td>-2.279             </td><td>40.18              </td><td>69.12              </td><td> 0.60388749        </td></tr>\n",
       "</tbody>\n",
       "</table>\n"
      ],
      "text/latex": [
       "\\begin{tabular}{r|lllllll}\n",
       " X & Time & Speed\\_ms & Temperature\\_C & Humidity & Solar\\_Irradiance\\_Wm2 & Power\\_Watt\\\\\n",
       "\\hline\n",
       "\t 1                   & 2020-01-09 10:00:00 & 0.743               & -3.092              & 43.48               & 59.48               & -0.69527077        \\\\\n",
       "\t 2                   & 2020-01-09 10:10:00 & 0.458               & -2.813              & 42.88               & 60.62               & -0.26894369        \\\\\n",
       "\t 3                   & 2020-01-09 10:20:00 & 0.350               & -2.219              & 41.58               & 66.71               & -0.03266857        \\\\\n",
       "\t 4                   & 2020-01-09 10:30:00 & 0.598               & -1.933              & 40.30               & 66.54               &  0.39081452        \\\\\n",
       "\t 5                   & 2020-01-09 10:40:00 & 0.809               & -2.249              & 40.23               & 64.71               & -0.47008277        \\\\\n",
       "\t 6                   & 2020-01-09 10:50:00 & 0.822               & -2.279              & 40.18               & 69.12               &  0.60388749        \\\\\n",
       "\\end{tabular}\n"
      ],
      "text/markdown": [
       "\n",
       "| X | Time | Speed_ms | Temperature_C | Humidity | Solar_Irradiance_Wm2 | Power_Watt |\n",
       "|---|---|---|---|---|---|---|\n",
       "| 1                   | 2020-01-09 10:00:00 | 0.743               | -3.092              | 43.48               | 59.48               | -0.69527077         |\n",
       "| 2                   | 2020-01-09 10:10:00 | 0.458               | -2.813              | 42.88               | 60.62               | -0.26894369         |\n",
       "| 3                   | 2020-01-09 10:20:00 | 0.350               | -2.219              | 41.58               | 66.71               | -0.03266857         |\n",
       "| 4                   | 2020-01-09 10:30:00 | 0.598               | -1.933              | 40.30               | 66.54               |  0.39081452         |\n",
       "| 5                   | 2020-01-09 10:40:00 | 0.809               | -2.249              | 40.23               | 64.71               | -0.47008277         |\n",
       "| 6                   | 2020-01-09 10:50:00 | 0.822               | -2.279              | 40.18               | 69.12               |  0.60388749         |\n",
       "\n"
      ],
      "text/plain": [
       "  X Time                Speed_ms Temperature_C Humidity Solar_Irradiance_Wm2\n",
       "1 1 2020-01-09 10:00:00 0.743    -3.092        43.48    59.48               \n",
       "2 2 2020-01-09 10:10:00 0.458    -2.813        42.88    60.62               \n",
       "3 3 2020-01-09 10:20:00 0.350    -2.219        41.58    66.71               \n",
       "4 4 2020-01-09 10:30:00 0.598    -1.933        40.30    66.54               \n",
       "5 5 2020-01-09 10:40:00 0.809    -2.249        40.23    64.71               \n",
       "6 6 2020-01-09 10:50:00 0.822    -2.279        40.18    69.12               \n",
       "  Power_Watt \n",
       "1 -0.69527077\n",
       "2 -0.26894369\n",
       "3 -0.03266857\n",
       "4  0.39081452\n",
       "5 -0.47008277\n",
       "6  0.60388749"
      ]
     },
     "metadata": {},
     "output_type": "display_data"
    },
    {
     "data": {
      "text/html": [
       "<table>\n",
       "<thead><tr><th scope=col>X</th><th scope=col>Time</th><th scope=col>Speed_ms</th><th scope=col>Temperature_C</th><th scope=col>Humidity</th><th scope=col>Solar_Irradiance_Wm2</th><th scope=col>Power_Watt</th></tr></thead>\n",
       "<tbody>\n",
       "\t<tr><td>1     </td><td>NA    </td><td>0.911 </td><td>-0.120</td><td>88.10 </td><td> 0.00 </td><td>NA    </td></tr>\n",
       "\t<tr><td>2     </td><td>NA    </td><td>0.940 </td><td> 5.938</td><td>88.80 </td><td> 0.00 </td><td>NA    </td></tr>\n",
       "\t<tr><td>3     </td><td>NA    </td><td>2.179 </td><td>19.500</td><td>59.04 </td><td>20.03 </td><td>NA    </td></tr>\n",
       "\t<tr><td>4     </td><td>NA    </td><td>1.315 </td><td>-4.902</td><td>51.25 </td><td> 0.00 </td><td>NA    </td></tr>\n",
       "\t<tr><td>5     </td><td>NA    </td><td>0.212 </td><td> 6.228</td><td>63.02 </td><td> 0.00 </td><td>NA    </td></tr>\n",
       "\t<tr><td>6     </td><td>NA    </td><td>1.087 </td><td> 2.380</td><td>60.32 </td><td> 0.00 </td><td>NA    </td></tr>\n",
       "</tbody>\n",
       "</table>\n"
      ],
      "text/latex": [
       "\\begin{tabular}{r|lllllll}\n",
       " X & Time & Speed\\_ms & Temperature\\_C & Humidity & Solar\\_Irradiance\\_Wm2 & Power\\_Watt\\\\\n",
       "\\hline\n",
       "\t 1      & NA     & 0.911  & -0.120 & 88.10  &  0.00  & NA    \\\\\n",
       "\t 2      & NA     & 0.940  &  5.938 & 88.80  &  0.00  & NA    \\\\\n",
       "\t 3      & NA     & 2.179  & 19.500 & 59.04  & 20.03  & NA    \\\\\n",
       "\t 4      & NA     & 1.315  & -4.902 & 51.25  &  0.00  & NA    \\\\\n",
       "\t 5      & NA     & 0.212  &  6.228 & 63.02  &  0.00  & NA    \\\\\n",
       "\t 6      & NA     & 1.087  &  2.380 & 60.32  &  0.00  & NA    \\\\\n",
       "\\end{tabular}\n"
      ],
      "text/markdown": [
       "\n",
       "| X | Time | Speed_ms | Temperature_C | Humidity | Solar_Irradiance_Wm2 | Power_Watt |\n",
       "|---|---|---|---|---|---|---|\n",
       "| 1      | NA     | 0.911  | -0.120 | 88.10  |  0.00  | NA     |\n",
       "| 2      | NA     | 0.940  |  5.938 | 88.80  |  0.00  | NA     |\n",
       "| 3      | NA     | 2.179  | 19.500 | 59.04  | 20.03  | NA     |\n",
       "| 4      | NA     | 1.315  | -4.902 | 51.25  |  0.00  | NA     |\n",
       "| 5      | NA     | 0.212  |  6.228 | 63.02  |  0.00  | NA     |\n",
       "| 6      | NA     | 1.087  |  2.380 | 60.32  |  0.00  | NA     |\n",
       "\n"
      ],
      "text/plain": [
       "  X Time Speed_ms Temperature_C Humidity Solar_Irradiance_Wm2 Power_Watt\n",
       "1 1 NA   0.911    -0.120        88.10     0.00                NA        \n",
       "2 2 NA   0.940     5.938        88.80     0.00                NA        \n",
       "3 3 NA   2.179    19.500        59.04    20.03                NA        \n",
       "4 4 NA   1.315    -4.902        51.25     0.00                NA        \n",
       "5 5 NA   0.212     6.228        63.02     0.00                NA        \n",
       "6 6 NA   1.087     2.380        60.32     0.00                NA        "
      ]
     },
     "metadata": {},
     "output_type": "display_data"
    }
   ],
   "source": [
    "data = read.csv(file = \"data.csv\")\n",
    "df = data.frame(data)\n",
    "head(df)\n",
    "test_data = read.csv(file = \"testdata.csv\")\n",
    "head(test_data)"
   ]
  },
  {
   "attachments": {},
   "cell_type": "markdown",
   "metadata": {},
   "source": [
    "## Preliminary Analysis"
   ]
  },
  {
   "attachments": {},
   "cell_type": "markdown",
   "metadata": {},
   "source": [
    "### Plot of power against speed  "
   ]
  },
  {
   "cell_type": "code",
   "execution_count": 2,
   "metadata": {
    "vscode": {
     "languageId": "r"
    }
   },
   "outputs": [
    {
     "data": {
      "image/png": "[encoded data removed]",
      "text/plain": [
       "Plot with title \"Power over Wind Speed\""
      ]
     },
     "metadata": {},
     "output_type": "display_data"
    }
   ],
   "source": [
    "plot(df$Speed_ms,df$Power_Watt,main=\"Power over Wind Speed\",xlab=\"Wind Speed (m/s)\",ylab=\"Power (Watts)\",cex=1.2,cex.axis=1.2,cex.lab=1.2,pch=19,col=\"black\",panel.first=grid())"
   ]
  },
  {
   "attachments": {},
   "cell_type": "markdown",
   "metadata": {},
   "source": [
    "### Daytime solar irradiance versus speed"
   ]
  },
  {
   "cell_type": "code",
   "execution_count": 3,
   "metadata": {
    "vscode": {
     "languageId": "r"
    }
   },
   "outputs": [
    {
     "data": {
      "text/html": [
       "-0.0995539626316506"
      ],
      "text/latex": [
       "-0.0995539626316506"
      ],
      "text/markdown": [
       "-0.0995539626316506"
      ],
      "text/plain": [
       "[1] -0.09955396"
      ]
     },
     "metadata": {},
     "output_type": "display_data"
    },
    {
     "data": {
      "image/png": "[encoded data removed]",
      "text/plain": [
       "plot without title"
      ]
     },
     "metadata": {},
     "output_type": "display_data"
    }
   ],
   "source": [
    "solar_day = df$Solar_Irradiance_Wm2[-which(df$Solar_Irradiance_Wm2 <= 10)]\n",
    "speed_day = df$Speed_ms[-which(df$Solar_Irradiance_Wm2 <= 10)]\n",
    "power_day = df$Power_Watt[-which(df$Solar_Irradiance_Wm2 <= 10)]\n",
    "\n",
    "plot(solar_day, speed_day)\n",
    "cor(solar_day, speed_day)"
   ]
  },
  {
   "attachments": {},
   "cell_type": "markdown",
   "metadata": {},
   "source": [
    "### Daytime solar irradiance versus power"
   ]
  },
  {
   "cell_type": "code",
   "execution_count": 4,
   "metadata": {
    "vscode": {
     "languageId": "r"
    }
   },
   "outputs": [
    {
     "data": {
      "text/html": [
       "-0.168343658732492"
      ],
      "text/latex": [
       "-0.168343658732492"
      ],
      "text/markdown": [
       "-0.168343658732492"
      ],
      "text/plain": [
       "[1] -0.1683437"
      ]
     },
     "metadata": {},
     "output_type": "display_data"
    },
    {
     "data": {
      "image/png": "[encoded data removed]",
      "text/plain": [
       "plot without title"
      ]
     },
     "metadata": {},
     "output_type": "display_data"
    }
   ],
   "source": [
    "plot(solar_day, power_day)\n",
    "cor(solar_day, power_day) "
   ]
  },
  {
   "attachments": {},
   "cell_type": "markdown",
   "metadata": {},
   "source": [
    "### Correlation of features"
   ]
  },
  {
   "cell_type": "code",
   "execution_count": 5,
   "metadata": {
    "vscode": {
     "languageId": "r"
    }
   },
   "outputs": [
    {
     "data": {
      "text/html": [
       "<table>\n",
       "<thead><tr><th></th><th scope=col>Speed_ms</th><th scope=col>Temperature_C</th><th scope=col>Humidity</th><th scope=col>Solar_Irradiance_Wm2</th><th scope=col>Power_Watt</th></tr></thead>\n",
       "<tbody>\n",
       "\t<tr><th scope=row>Speed_ms</th><td> 1.00000000</td><td> 0.73863227</td><td> 0.1936181 </td><td>-0.01579759</td><td> 0.93408094</td></tr>\n",
       "\t<tr><th scope=row>Temperature_C</th><td> 0.73863227</td><td> 1.00000000</td><td> 0.4966482 </td><td>-0.08514597</td><td> 0.70508284</td></tr>\n",
       "\t<tr><th scope=row>Humidity</th><td> 0.19361809</td><td> 0.49664817</td><td> 1.0000000 </td><td>-0.47244713</td><td> 0.22154504</td></tr>\n",
       "\t<tr><th scope=row>Solar_Irradiance_Wm2</th><td>-0.01579759</td><td>-0.08514597</td><td>-0.4724471 </td><td> 1.00000000</td><td>-0.01881058</td></tr>\n",
       "\t<tr><th scope=row>Power_Watt</th><td> 0.93408094</td><td> 0.70508284</td><td> 0.2215450 </td><td>-0.01881058</td><td> 1.00000000</td></tr>\n",
       "</tbody>\n",
       "</table>\n"
      ],
      "text/latex": [
       "\\begin{tabular}{r|lllll}\n",
       "  & Speed\\_ms & Temperature\\_C & Humidity & Solar\\_Irradiance\\_Wm2 & Power\\_Watt\\\\\n",
       "\\hline\n",
       "\tSpeed\\_ms &  1.00000000 &  0.73863227 &  0.1936181  & -0.01579759 &  0.93408094\\\\\n",
       "\tTemperature\\_C &  0.73863227 &  1.00000000 &  0.4966482  & -0.08514597 &  0.70508284\\\\\n",
       "\tHumidity &  0.19361809 &  0.49664817 &  1.0000000  & -0.47244713 &  0.22154504\\\\\n",
       "\tSolar\\_Irradiance\\_Wm2 & -0.01579759 & -0.08514597 & -0.4724471  &  1.00000000 & -0.01881058\\\\\n",
       "\tPower\\_Watt &  0.93408094 &  0.70508284 &  0.2215450  & -0.01881058 &  1.00000000\\\\\n",
       "\\end{tabular}\n"
      ],
      "text/markdown": [
       "\n",
       "| <!--/--> | Speed_ms | Temperature_C | Humidity | Solar_Irradiance_Wm2 | Power_Watt |\n",
       "|---|---|---|---|---|---|\n",
       "| Speed_ms |  1.00000000 |  0.73863227 |  0.1936181  | -0.01579759 |  0.93408094 |\n",
       "| Temperature_C |  0.73863227 |  1.00000000 |  0.4966482  | -0.08514597 |  0.70508284 |\n",
       "| Humidity |  0.19361809 |  0.49664817 |  1.0000000  | -0.47244713 |  0.22154504 |\n",
       "| Solar_Irradiance_Wm2 | -0.01579759 | -0.08514597 | -0.4724471  |  1.00000000 | -0.01881058 |\n",
       "| Power_Watt |  0.93408094 |  0.70508284 |  0.2215450  | -0.01881058 |  1.00000000 |\n",
       "\n"
      ],
      "text/plain": [
       "                     Speed_ms    Temperature_C Humidity   Solar_Irradiance_Wm2\n",
       "Speed_ms              1.00000000  0.73863227    0.1936181 -0.01579759         \n",
       "Temperature_C         0.73863227  1.00000000    0.4966482 -0.08514597         \n",
       "Humidity              0.19361809  0.49664817    1.0000000 -0.47244713         \n",
       "Solar_Irradiance_Wm2 -0.01579759 -0.08514597   -0.4724471  1.00000000         \n",
       "Power_Watt            0.93408094  0.70508284    0.2215450 -0.01881058         \n",
       "                     Power_Watt \n",
       "Speed_ms              0.93408094\n",
       "Temperature_C         0.70508284\n",
       "Humidity              0.22154504\n",
       "Solar_Irradiance_Wm2 -0.01881058\n",
       "Power_Watt            1.00000000"
      ]
     },
     "metadata": {},
     "output_type": "display_data"
    }
   ],
   "source": [
    "cor(df[3:7])"
   ]
  },
  {
   "attachments": {},
   "cell_type": "markdown",
   "metadata": {},
   "source": [
    "### Plotting the features in the test data"
   ]
  },
  {
   "cell_type": "code",
   "execution_count": 6,
   "metadata": {
    "vscode": {
     "languageId": "r"
    }
   },
   "outputs": [
    {
     "data": {
      "text/html": [
       "<strong>null device:</strong> 1"
      ],
      "text/latex": [
       "\\textbf{null device:} 1"
      ],
      "text/markdown": [
       "**null device:** 1"
      ],
      "text/plain": [
       "null device \n",
       "          1 "
      ]
     },
     "metadata": {},
     "output_type": "display_data"
    },
    {
     "data": {
      "image/png": "[encoded data removed]",
      "text/plain": [
       "Plot with title \"Solar Irrdiance\""
      ]
     },
     "metadata": {},
     "output_type": "display_data"
    }
   ],
   "source": [
    "par(mfrow=c(2,2), mar=c(1,4,2,1.5), mgp=c(2,0.2,0))\n",
    "plot(test_data$Speed_ms,main=\"Wind Speed\",xlab=\"Index\",ylab=\"Wind Speed (m/s)\",cex=1.2,cex.axis=1,cex.lab=1,pch=19,col=\"blue\",panel.first=grid())\n",
    "plot(test_data$Temperature_C,main=\"Temperature\",xlab=\"Index\",ylab=\"Temperature (c)\",cex=1.2,cex.axis=1,cex.lab=1,pch=19,col=\"blue\",panel.first=grid())\n",
    "plot(test_data$Humidity,main=\"Humidity\",xlab=\"Index\",ylab=\"Humidity (%)\",cex=1.2,cex.axis=1,cex.lab=1,pch=19,col=\"blue\",panel.first=grid())\n",
    "plot(test_data$Solar_Irradiance_Wm2,main=\"Solar Irrdiance\",xlab=\"Index\",ylab=\"Solar Irrdiance (W/m^2)\",cex=1,cex.axis=1,cex.lab=1,pch=19,col=\"blue\",panel.first=grid())\n",
    "dev.off()\n",
    "par(mfrow=c(1,1), mar=c(5.1,4.1,4.1,2.1), mgp=c(3,1,0)) # for original plot"
   ]
  },
  {
   "attachments": {},
   "cell_type": "markdown",
   "metadata": {},
   "source": [
    "## Model Building\n",
    "Linear and Polynomial Regression "
   ]
  },
  {
   "cell_type": "code",
   "execution_count": 7,
   "metadata": {
    "vscode": {
     "languageId": "r"
    }
   },
   "outputs": [
    {
     "data": {
      "text/plain": [
       "\n",
       "Call:\n",
       "lm(formula = df$Power_Watt ~ poly(df$Speed_ms, degree = 3, raw = TRUE), \n",
       "    data = df)\n",
       "\n",
       "Residuals:\n",
       "     Min       1Q   Median       3Q      Max \n",
       "-15.4845  -1.8598   0.0658   1.6524  17.5309 \n",
       "\n",
       "Coefficients:\n",
       "                                           Estimate Std. Error t value Pr(>|t|)\n",
       "(Intercept)                                  1.8935     0.8362   2.264   0.0241\n",
       "poly(df$Speed_ms, degree = 3, raw = TRUE)1 -10.9099     1.7225  -6.334 6.72e-10\n",
       "poly(df$Speed_ms, degree = 3, raw = TRUE)2  11.1374     0.9382  11.871  < 2e-16\n",
       "poly(df$Speed_ms, degree = 3, raw = TRUE)3  -1.2613     0.1440  -8.760  < 2e-16\n",
       "                                              \n",
       "(Intercept)                                *  \n",
       "poly(df$Speed_ms, degree = 3, raw = TRUE)1 ***\n",
       "poly(df$Speed_ms, degree = 3, raw = TRUE)2 ***\n",
       "poly(df$Speed_ms, degree = 3, raw = TRUE)3 ***\n",
       "---\n",
       "Signif. codes:  0 '***' 0.001 '**' 0.01 '*' 0.05 '.' 0.1 ' ' 1\n",
       "\n",
       "Residual standard error: 4.501 on 383 degrees of freedom\n",
       "Multiple R-squared:  0.9358,\tAdjusted R-squared:  0.9353 \n",
       "F-statistic:  1860 on 3 and 383 DF,  p-value: < 2.2e-16\n"
      ]
     },
     "metadata": {},
     "output_type": "display_data"
    }
   ],
   "source": [
    "#testing a basic linear model\n",
    "lin.mod = lm(df$Power_Watt~df$Speed_ms,data=df) \n",
    "pred1=predict(object=lin.mod,newdata=df)\n",
    "\n",
    "# testing a polynomial model\n",
    "poly.mod=lm(df$Power_Watt~poly(df$Speed_ms, degree=3, raw= TRUE), data=df) \n",
    "summary(poly.mod)\n",
    "pred2=predict(object=poly.mod,newdata=df)"
   ]
  },
  {
   "attachments": {},
   "cell_type": "markdown",
   "metadata": {},
   "source": [
    "### Splitting the data into train and test sets"
   ]
  },
  {
   "cell_type": "code",
   "execution_count": 8,
   "metadata": {
    "vscode": {
     "languageId": "r"
    }
   },
   "outputs": [],
   "source": [
    "train.data = df[seq(1,round(length(df$Time)*0.7,digits=0),1),]# portion of the data to train \n",
    "test.data = df[(seq(round(length(df$Time)*0.7,digits=0)+1,length(df$X),1)),] #portion of the data to test"
   ]
  },
  {
   "attachments": {},
   "cell_type": "markdown",
   "metadata": {},
   "source": [
    "### Initializing the Mean Square Error vectors"
   ]
  },
  {
   "cell_type": "code",
   "execution_count": 9,
   "metadata": {
    "vscode": {
     "languageId": "r"
    }
   },
   "outputs": [],
   "source": [
    "MSE1 = MSE2 = MSE3= MSE4 = vector(length = length(df$X))"
   ]
  },
  {
   "attachments": {},
   "cell_type": "markdown",
   "metadata": {},
   "source": [
    "### Performing Leave One Out Cross Validation for each model"
   ]
  },
  {
   "cell_type": "code",
   "execution_count": 10,
   "metadata": {
    "vscode": {
     "languageId": "r"
    }
   },
   "outputs": [],
   "source": [
    "for(i in 1:length(df$X)){\n",
    "  test.id =i\n",
    "  train.data = df[-test.id,] # portion of the data to train \n",
    "  test.data = df[test.id,]\n",
    "\n",
    "  # model 1: P1= f(V) + error\n",
    "  model1 = lm(Power_Watt~Speed_ms,data=train.data)\n",
    "  pred1= predict(object= model1,newdata = test.data) # prediction model 1\n",
    "  MSE1[i]= mean((pred1-test.data$Power_Watt)^2) # MSE model 1\n",
    "  \n",
    "  # model 2: P1= f(V,Temp) + error\n",
    "  model2 = lm(Power_Watt~Speed_ms+Temperature_C,data=train.data) \n",
    "  pred2= predict(object=model2,newdata=test.data) # prediction model 2\n",
    "  MSE2[i]= (pred2-test.data$Power_Watt)^2 # MSE model 2\n",
    "  \n",
    "  # model 3: P1= f(V,V^2,V^3) + error\n",
    "  model3 = lm(Power_Watt~Speed_ms+I(Speed_ms^2)+I(Speed_ms^3),data=train.data)\n",
    "  pred3= predict(object=model3,newdata=test.data) # prediction model 3\n",
    "  MSE3[i]= (pred3-test.data$Power_Watt)^2 # MSE of model 3\n",
    "  \n",
    "  # model 4: P1= f(V,V^2,V^3,Temp) + error\n",
    "  model4 = lm(Power_Watt~Speed_ms+I(Speed_ms^2)+I(Speed_ms^3)+Temperature_C,data=train.data)\n",
    "  pred4= predict(object=model4,newdata=test.data) # prediction model 3\n",
    "  MSE4[i]= (pred4-test.data$Power_Watt)^2 # MSE of model 3\n",
    "\n",
    "}"
   ]
  },
  {
   "attachments": {},
   "cell_type": "markdown",
   "metadata": {},
   "source": [
    "### Calculating the Mean Square Error for each Model"
   ]
  },
  {
   "cell_type": "code",
   "execution_count": 11,
   "metadata": {
    "vscode": {
     "languageId": "r"
    }
   },
   "outputs": [
    {
     "name": "stdout",
     "output_type": "stream",
     "text": [
      "[1] \"Model 1 MSE: 40.3120676148111\"\n",
      "[1] \"Model 2 MSE: 40.3665298780403\"\n",
      "[1] \"Model 3 MSE: 20.8260485342079\"\n",
      "[1] \"Model 4 MSE: 20.8012725806224\"\n"
     ]
    }
   ],
   "source": [
    "# MSE model 1\n",
    "MSE1=mean(MSE1) \n",
    "print(paste('Model 1 MSE:', MSE1))\n",
    "\n",
    "# MSE model 2\n",
    "MSE2=mean(MSE2) \n",
    "print(paste('Model 2 MSE:', MSE2))\n",
    "\n",
    "# MSE model 3\n",
    "MSE3=mean(MSE3) \n",
    "print(paste('Model 3 MSE:', MSE3))\n",
    "\n",
    "# MSE model 4\n",
    "MSE4=mean(MSE4)\n",
    "print(paste('Model 4 MSE:', MSE4))"
   ]
  },
  {
   "attachments": {},
   "cell_type": "markdown",
   "metadata": {},
   "source": [
    "### Creating a Table of MSEs for all models"
   ]
  },
  {
   "cell_type": "code",
   "execution_count": 12,
   "metadata": {
    "vscode": {
     "languageId": "r"
    }
   },
   "outputs": [
    {
     "data": {
      "text/html": [
       "<table>\n",
       "<thead><tr><th></th><th scope=col>Model1</th><th scope=col>Model2</th><th scope=col>Model3</th><th scope=col>Model4</th></tr></thead>\n",
       "<tbody>\n",
       "\t<tr><th scope=row>MSE</th><td>40.31207</td><td>40.36653</td><td>20.82605</td><td>20.80127</td></tr>\n",
       "</tbody>\n",
       "</table>\n"
      ],
      "text/latex": [
       "\\begin{tabular}{r|llll}\n",
       "  & Model1 & Model2 & Model3 & Model4\\\\\n",
       "\\hline\n",
       "\tMSE & 40.31207 & 40.36653 & 20.82605 & 20.80127\\\\\n",
       "\\end{tabular}\n"
      ],
      "text/markdown": [
       "\n",
       "| <!--/--> | Model1 | Model2 | Model3 | Model4 |\n",
       "|---|---|---|---|---|\n",
       "| MSE | 40.31207 | 40.36653 | 20.82605 | 20.80127 |\n",
       "\n"
      ],
      "text/plain": [
       "    Model1   Model2   Model3   Model4  \n",
       "MSE 40.31207 40.36653 20.82605 20.80127"
      ]
     },
     "metadata": {},
     "output_type": "display_data"
    }
   ],
   "source": [
    "MSEVec = data.frame(MSE1,MSE2,MSE3,MSE4)\n",
    "colnames(MSEVec) = c(\"Model1\",\"Model2\",\"Model3\",\"Model4\")\n",
    "rownames(MSEVec) = c(\"MSE\")\n",
    "MSEVec"
   ]
  },
  {
   "attachments": {},
   "cell_type": "markdown",
   "metadata": {},
   "source": [
    "### Training the models on all of the data"
   ]
  },
  {
   "cell_type": "code",
   "execution_count": 13,
   "metadata": {
    "vscode": {
     "languageId": "r"
    }
   },
   "outputs": [],
   "source": [
    "\n",
    "model1_all = lm(Power_Watt~Speed_ms,data) # model 1: P1= f(V) + error\n",
    "model2_all = lm(Power_Watt~Speed_ms+Temperature_C,data) # model 2: P1= f(V,Temp) + error\n",
    "model3_all = lm(Power_Watt~Speed_ms+I(Speed_ms^2)+I(Speed_ms^3),data) # model 3: P1= f(V,V^2,V^3) + error\n",
    "model4_all = lm(Power_Watt~Speed_ms+I(Speed_ms^2)+I(Speed_ms^3)+Temperature_C,data) # model 4: P1= f(V,V^2,V^3,Temp) + error"
   ]
  },
  {
   "attachments": {},
   "cell_type": "markdown",
   "metadata": {},
   "source": [
    "### Predictions for each model"
   ]
  },
  {
   "cell_type": "code",
   "execution_count": 14,
   "metadata": {
    "vscode": {
     "languageId": "r"
    }
   },
   "outputs": [],
   "source": [
    "pred1_all = predict(object = model1_all, newdata = data)\n",
    "pred2_all = predict(object = model2_all, newdata = data)\n",
    "pred3_all = predict(object = model3_all, newdata = data)\n",
    "pred4_all = predict(object = model4_all, newdata = data)"
   ]
  },
  {
   "attachments": {},
   "cell_type": "markdown",
   "metadata": {},
   "source": [
    "### Plotting the four regression models"
   ]
  },
  {
   "cell_type": "code",
   "execution_count": 15,
   "metadata": {
    "vscode": {
     "languageId": "r"
    }
   },
   "outputs": [
    {
     "data": {
      "image/png": "[encoded data removed]",
      "text/plain": [
       "Plot with title \"Power over Wind Speed\""
      ]
     },
     "metadata": {},
     "output_type": "display_data"
    }
   ],
   "source": [
    "plot(df$Speed_ms,df$Power_Watt,main=\"Power over Wind Speed\",xlab=\"Wind Speed (m/s)\",ylab=\"Power (Watts)\",cex=1.2,cex.axis=1.2,cex.lab=1.2,pch=19,col=\"black\",panel.first=grid())\n",
    "lines(data$Speed_ms,pred1_all,col=\"red\",lwd=9)\n",
    "lines(data$Speed_ms,pred2_all,col=\"blue\",lwd=3)\n",
    "lines(data$Speed_ms,pred3_all,col=\"green\",lwd=9)\n",
    "lines(data$Speed_ms,pred4_all,col=\"yellow\",lwd=3)\n",
    "legend(\"bottomright\",legend=c(\"Model1\",\"Model2\",\"Model3\",\"Model4\"),col=c(\"red\",\"blue\",\"green\",\"yellow\"),lwd=c(3,3),pch=c(NA,NA),cex=.75)"
   ]
  },
  {
   "attachments": {},
   "cell_type": "markdown",
   "metadata": {},
   "source": [
    "### Creating a table for the coefficients of each model"
   ]
  },
  {
   "cell_type": "code",
   "execution_count": 16,
   "metadata": {
    "vscode": {
     "languageId": "r"
    }
   },
   "outputs": [
    {
     "data": {
      "text/html": [
       "<table>\n",
       "<thead><tr><th></th><th scope=col>Intercept</th><th scope=col>Speed_ms</th><th scope=col>Temperature</th><th scope=col>Speed_ms ^2</th><th scope=col>Speed_ms ^3</th></tr></thead>\n",
       "<tbody>\n",
       "\t<tr><th scope=row>model1</th><td>-10.990168</td><td> 14.90426 </td><td>        NA</td><td>      NA  </td><td>       NA </td></tr>\n",
       "\t<tr><th scope=row>model2</th><td>-11.001393</td><td> 14.51158 </td><td>0.07502234</td><td>      NA  </td><td>       NA </td></tr>\n",
       "\t<tr><th scope=row>model3</th><td>  1.893481</td><td>-10.90988 </td><td>        NA</td><td>11.13745  </td><td>-1.261277 </td></tr>\n",
       "\t<tr><th scope=row>model4</th><td>  1.756200</td><td>-10.84799 </td><td>0.06740196</td><td>10.85846  </td><td>-1.213707 </td></tr>\n",
       "</tbody>\n",
       "</table>\n"
      ],
      "text/latex": [
       "\\begin{tabular}{r|lllll}\n",
       "  & Intercept & Speed\\_ms & Temperature & Speed\\_ms \\textasciicircum{}2 & Speed\\_ms \\textasciicircum{}3\\\\\n",
       "\\hline\n",
       "\tmodel1 & -10.990168 &  14.90426  &         NA &       NA   &        NA \\\\\n",
       "\tmodel2 & -11.001393 &  14.51158  & 0.07502234 &       NA   &        NA \\\\\n",
       "\tmodel3 &   1.893481 & -10.90988  &         NA & 11.13745   & -1.261277 \\\\\n",
       "\tmodel4 &   1.756200 & -10.84799  & 0.06740196 & 10.85846   & -1.213707 \\\\\n",
       "\\end{tabular}\n"
      ],
      "text/markdown": [
       "\n",
       "| <!--/--> | Intercept | Speed_ms | Temperature | Speed_ms ^2 | Speed_ms ^3 |\n",
       "|---|---|---|---|---|---|\n",
       "| model1 | -10.990168 |  14.90426  |         NA |       NA   |        NA  |\n",
       "| model2 | -11.001393 |  14.51158  | 0.07502234 |       NA   |        NA  |\n",
       "| model3 |   1.893481 | -10.90988  |         NA | 11.13745   | -1.261277  |\n",
       "| model4 |   1.756200 | -10.84799  | 0.06740196 | 10.85846   | -1.213707  |\n",
       "\n"
      ],
      "text/plain": [
       "       Intercept  Speed_ms  Temperature Speed_ms ^2 Speed_ms ^3\n",
       "model1 -10.990168  14.90426         NA        NA           NA  \n",
       "model2 -11.001393  14.51158 0.07502234        NA           NA  \n",
       "model3   1.893481 -10.90988         NA  11.13745    -1.261277  \n",
       "model4   1.756200 -10.84799 0.06740196  10.85846    -1.213707  "
      ]
     },
     "metadata": {},
     "output_type": "display_data"
    }
   ],
   "source": [
    "myList = list(coef(model1_all), coef(model2_all), coef(model3_all),coef(model4_all))\n",
    "\n",
    "table = data.frame()\n",
    "for(i in seq(along=myList)) for(j in names(myList[[i]])){\n",
    "  table[i,j] <- myList[[i]][j]\n",
    "}\n",
    "\n",
    "rownames(table) = c(\"model1\",\"model2\",\"model3\",\"model4\")\n",
    "colnames(table) = c(\"Intercept\",\"Speed_ms\",\"Temperature\",\"Speed_ms ^2\",\"Speed_ms ^3\")\n",
    "\n",
    "table"
   ]
  },
  {
   "attachments": {},
   "cell_type": "markdown",
   "metadata": {},
   "source": [
    "### Model 4 has performed the best out of the current models\n",
    "It has the lowest MSE of all the models we have tested so far"
   ]
  },
  {
   "cell_type": "code",
   "execution_count": 17,
   "metadata": {
    "vscode": {
     "languageId": "r"
    }
   },
   "outputs": [
    {
     "data": {
      "text/plain": [
       "\n",
       "Call:\n",
       "lm(formula = Power_Watt ~ poly(Speed_ms, degree = 3, raw = TRUE) + \n",
       "    Temperature_C, data = data)\n",
       "\n",
       "Residuals:\n",
       "     Min       1Q   Median       3Q      Max \n",
       "-15.4517  -1.7998   0.0608   1.6454  18.2633 \n",
       "\n",
       "Coefficients:\n",
       "                                         Estimate Std. Error t value Pr(>|t|)\n",
       "(Intercept)                               1.75620    0.83966   2.092   0.0371\n",
       "poly(Speed_ms, degree = 3, raw = TRUE)1 -10.84799    1.72009  -6.307 7.89e-10\n",
       "poly(Speed_ms, degree = 3, raw = TRUE)2  10.85846    0.95443  11.377  < 2e-16\n",
       "poly(Speed_ms, degree = 3, raw = TRUE)3  -1.21371    0.14712  -8.250 2.59e-15\n",
       "Temperature_C                             0.06740    0.04438   1.519   0.1297\n",
       "                                           \n",
       "(Intercept)                             *  \n",
       "poly(Speed_ms, degree = 3, raw = TRUE)1 ***\n",
       "poly(Speed_ms, degree = 3, raw = TRUE)2 ***\n",
       "poly(Speed_ms, degree = 3, raw = TRUE)3 ***\n",
       "Temperature_C                              \n",
       "---\n",
       "Signif. codes:  0 '***' 0.001 '**' 0.01 '*' 0.05 '.' 0.1 ' ' 1\n",
       "\n",
       "Residual standard error: 4.493 on 382 degrees of freedom\n",
       "Multiple R-squared:  0.9362,\tAdjusted R-squared:  0.9355 \n",
       "F-statistic:  1400 on 4 and 382 DF,  p-value: < 2.2e-16\n"
      ]
     },
     "metadata": {},
     "output_type": "display_data"
    }
   ],
   "source": [
    "fin.mod =lm(Power_Watt~poly(Speed_ms, degree=3, raw= TRUE)+Temperature_C,data=data)\n",
    "summary(fin.mod)"
   ]
  },
  {
   "attachments": {},
   "cell_type": "markdown",
   "metadata": {},
   "source": [
    "## Testing additional models that use different regression techniques\n",
    "loading in package glmnet"
   ]
  },
  {
   "cell_type": "code",
   "execution_count": 18,
   "metadata": {
    "vscode": {
     "languageId": "r"
    }
   },
   "outputs": [
    {
     "name": "stderr",
     "output_type": "stream",
     "text": [
      "Warning message:\n",
      "\"package 'glmnet' was built under R version 3.6.3\"Loading required package: Matrix\n",
      "Loaded glmnet 4.1-1\n"
     ]
    }
   ],
   "source": [
    "library(glmnet)"
   ]
  },
  {
   "attachments": {},
   "cell_type": "markdown",
   "metadata": {},
   "source": [
    "### Formulating the features and the target for the following models"
   ]
  },
  {
   "cell_type": "code",
   "execution_count": 19,
   "metadata": {
    "vscode": {
     "languageId": "r"
    }
   },
   "outputs": [
    {
     "data": {
      "text/html": [
       "<table>\n",
       "<thead><tr><th scope=col>data.Power_Watt</th></tr></thead>\n",
       "<tbody>\n",
       "\t<tr><td>-0.69527077</td></tr>\n",
       "\t<tr><td>-0.26894369</td></tr>\n",
       "\t<tr><td>-0.03266857</td></tr>\n",
       "\t<tr><td> 0.39081452</td></tr>\n",
       "\t<tr><td>-0.47008277</td></tr>\n",
       "\t<tr><td> 0.60388749</td></tr>\n",
       "</tbody>\n",
       "</table>\n"
      ],
      "text/latex": [
       "\\begin{tabular}{l}\n",
       " data.Power\\_Watt\\\\\n",
       "\\hline\n",
       "\t -0.69527077\\\\\n",
       "\t -0.26894369\\\\\n",
       "\t -0.03266857\\\\\n",
       "\t  0.39081452\\\\\n",
       "\t -0.47008277\\\\\n",
       "\t  0.60388749\\\\\n",
       "\\end{tabular}\n"
      ],
      "text/markdown": [
       "\n",
       "| data.Power_Watt |\n",
       "|---|\n",
       "| -0.69527077 |\n",
       "| -0.26894369 |\n",
       "| -0.03266857 |\n",
       "|  0.39081452 |\n",
       "| -0.47008277 |\n",
       "|  0.60388749 |\n",
       "\n"
      ],
      "text/plain": [
       "     data.Power_Watt\n",
       "[1,] -0.69527077    \n",
       "[2,] -0.26894369    \n",
       "[3,] -0.03266857    \n",
       "[4,]  0.39081452    \n",
       "[5,] -0.47008277    \n",
       "[6,]  0.60388749    "
      ]
     },
     "metadata": {},
     "output_type": "display_data"
    }
   ],
   "source": [
    "df2 = data.frame(data$Speed_ms,data$Speed_ms^2,data$Speed_ms^3,data$Temperature_C,data$Power_Watt,data$Humidity)\n",
    "y = data.matrix(df2[5])\n",
    "head(y)"
   ]
  },
  {
   "cell_type": "code",
   "execution_count": 20,
   "metadata": {
    "vscode": {
     "languageId": "r"
    }
   },
   "outputs": [
    {
     "data": {
      "text/html": [
       "<table>\n",
       "<thead><tr><th scope=col>data.Speed_ms</th><th scope=col>data.Speed_ms.2</th><th scope=col>data.Speed_ms.3</th><th scope=col>data.Temperature_C</th></tr></thead>\n",
       "<tbody>\n",
       "\t<tr><td>0.743     </td><td>0.552049  </td><td>0.41017241</td><td>-3.092    </td></tr>\n",
       "\t<tr><td>0.458     </td><td>0.209764  </td><td>0.09607191</td><td>-2.813    </td></tr>\n",
       "\t<tr><td>0.350     </td><td>0.122500  </td><td>0.04287500</td><td>-2.219    </td></tr>\n",
       "\t<tr><td>0.598     </td><td>0.357604  </td><td>0.21384719</td><td>-1.933    </td></tr>\n",
       "\t<tr><td>0.809     </td><td>0.654481  </td><td>0.52947513</td><td>-2.249    </td></tr>\n",
       "\t<tr><td>0.822     </td><td>0.675684  </td><td>0.55541225</td><td>-2.279    </td></tr>\n",
       "</tbody>\n",
       "</table>\n"
      ],
      "text/latex": [
       "\\begin{tabular}{llll}\n",
       " data.Speed\\_ms & data.Speed\\_ms.2 & data.Speed\\_ms.3 & data.Temperature\\_C\\\\\n",
       "\\hline\n",
       "\t 0.743      & 0.552049   & 0.41017241 & -3.092    \\\\\n",
       "\t 0.458      & 0.209764   & 0.09607191 & -2.813    \\\\\n",
       "\t 0.350      & 0.122500   & 0.04287500 & -2.219    \\\\\n",
       "\t 0.598      & 0.357604   & 0.21384719 & -1.933    \\\\\n",
       "\t 0.809      & 0.654481   & 0.52947513 & -2.249    \\\\\n",
       "\t 0.822      & 0.675684   & 0.55541225 & -2.279    \\\\\n",
       "\\end{tabular}\n"
      ],
      "text/markdown": [
       "\n",
       "| data.Speed_ms | data.Speed_ms.2 | data.Speed_ms.3 | data.Temperature_C |\n",
       "|---|---|---|---|\n",
       "| 0.743      | 0.552049   | 0.41017241 | -3.092     |\n",
       "| 0.458      | 0.209764   | 0.09607191 | -2.813     |\n",
       "| 0.350      | 0.122500   | 0.04287500 | -2.219     |\n",
       "| 0.598      | 0.357604   | 0.21384719 | -1.933     |\n",
       "| 0.809      | 0.654481   | 0.52947513 | -2.249     |\n",
       "| 0.822      | 0.675684   | 0.55541225 | -2.279     |\n",
       "\n"
      ],
      "text/plain": [
       "     data.Speed_ms data.Speed_ms.2 data.Speed_ms.3 data.Temperature_C\n",
       "[1,] 0.743         0.552049        0.41017241      -3.092            \n",
       "[2,] 0.458         0.209764        0.09607191      -2.813            \n",
       "[3,] 0.350         0.122500        0.04287500      -2.219            \n",
       "[4,] 0.598         0.357604        0.21384719      -1.933            \n",
       "[5,] 0.809         0.654481        0.52947513      -2.249            \n",
       "[6,] 0.822         0.675684        0.55541225      -2.279            "
      ]
     },
     "metadata": {},
     "output_type": "display_data"
    }
   ],
   "source": [
    "x = data.matrix(df2[1:4])\n",
    "head(x)"
   ]
  },
  {
   "attachments": {},
   "cell_type": "markdown",
   "metadata": {},
   "source": [
    "### Using 70-30 train test split"
   ]
  },
  {
   "cell_type": "code",
   "execution_count": 21,
   "metadata": {
    "vscode": {
     "languageId": "r"
    }
   },
   "outputs": [],
   "source": [
    "set.seed(123)\n",
    "train.id = sample(1:length(df2$data.Speed_ms),size=0.7*length(df2$data.Speed_ms))\n",
    "x.train = x[train.id,]\n",
    "x.test = x[-train.id,]\n",
    "y.train = y[train.id,]\n",
    "y.test = y[-train.id,]"
   ]
  },
  {
   "attachments": {},
   "cell_type": "markdown",
   "metadata": {},
   "source": [
    "### Ridge regression"
   ]
  },
  {
   "cell_type": "code",
   "execution_count": 22,
   "metadata": {
    "vscode": {
     "languageId": "r"
    }
   },
   "outputs": [
    {
     "data": {
      "text/plain": [
       "           Length Class  Mode     \n",
       "lambda     100    -none- numeric  \n",
       "cvm        100    -none- numeric  \n",
       "cvsd       100    -none- numeric  \n",
       "cvup       100    -none- numeric  \n",
       "cvlo       100    -none- numeric  \n",
       "nzero      100    -none- numeric  \n",
       "call         6    -none- call     \n",
       "name         1    -none- character\n",
       "glmnet.fit  12    elnet  list     \n",
       "lambda.min   1    -none- numeric  \n",
       "lambda.1se   1    -none- numeric  \n",
       "index        2    -none- numeric  "
      ]
     },
     "metadata": {},
     "output_type": "display_data"
    },
    {
     "data": {
      "image/png": "[encoded data removed]",
      "text/plain": [
       "plot without title"
      ]
     },
     "metadata": {},
     "output_type": "display_data"
    }
   ],
   "source": [
    "set.seed(123)\n",
    "ridge = cv.glmnet(x.train, y.train, alpha = 0, type.measure = \"mse\", family=\"gaussian\") # 10 fold cross validation\n",
    "summary(ridge)\n",
    "plot(ridge)"
   ]
  },
  {
   "attachments": {},
   "cell_type": "markdown",
   "metadata": {},
   "source": [
    "### Prediction and evaluation of Ridge model"
   ]
  },
  {
   "cell_type": "code",
   "execution_count": 23,
   "metadata": {
    "vscode": {
     "languageId": "r"
    }
   },
   "outputs": [
    {
     "data": {
      "text/html": [
       "20.0071941490118"
      ],
      "text/latex": [
       "20.0071941490118"
      ],
      "text/markdown": [
       "20.0071941490118"
      ],
      "text/plain": [
       "[1] 20.00719"
      ]
     },
     "metadata": {},
     "output_type": "display_data"
    },
    {
     "data": {
      "text/html": [
       "4.64345518605443"
      ],
      "text/latex": [
       "4.64345518605443"
      ],
      "text/markdown": [
       "4.64345518605443"
      ],
      "text/plain": [
       "[1] 4.643455"
      ]
     },
     "metadata": {},
     "output_type": "display_data"
    }
   ],
   "source": [
    "pred.ridge = predict(ridge, s=ridge$lambda.1se, newx=x.test)\n",
    "MSE.ridge = mean((y.test-pred.ridge)^2)\n",
    "MSE.ridge\n",
    "# NRMSE of ridge model\n",
    "100*sqrt(MSE.ridge)/(max(x.train,na.rm=T) - min(x.train,na.rm=T))"
   ]
  },
  {
   "attachments": {},
   "cell_type": "markdown",
   "metadata": {},
   "source": [
    "### Lasso Regression"
   ]
  },
  {
   "cell_type": "code",
   "execution_count": 24,
   "metadata": {
    "vscode": {
     "languageId": "r"
    }
   },
   "outputs": [
    {
     "data": {
      "text/plain": [
       "           Length Class  Mode     \n",
       "lambda     56     -none- numeric  \n",
       "cvm        56     -none- numeric  \n",
       "cvsd       56     -none- numeric  \n",
       "cvup       56     -none- numeric  \n",
       "cvlo       56     -none- numeric  \n",
       "nzero      56     -none- numeric  \n",
       "call        6     -none- call     \n",
       "name        1     -none- character\n",
       "glmnet.fit 12     elnet  list     \n",
       "lambda.min  1     -none- numeric  \n",
       "lambda.1se  1     -none- numeric  \n",
       "index       2     -none- numeric  "
      ]
     },
     "metadata": {},
     "output_type": "display_data"
    },
    {
     "data": {
      "image/png": "[encoded data removed]",
      "text/plain": [
       "plot without title"
      ]
     },
     "metadata": {},
     "output_type": "display_data"
    }
   ],
   "source": [
    "set.seed(123)\n",
    "lasso = cv.glmnet(x.train, y.train, alpha = 1, type.measure = \"mse\", family=\"gaussian\") # 10 fold cross validation\n",
    "summary(lasso)\n",
    "plot(lasso)"
   ]
  },
  {
   "attachments": {},
   "cell_type": "markdown",
   "metadata": {},
   "source": [
    "### Prediction and evaluation of Lasso model"
   ]
  },
  {
   "cell_type": "code",
   "execution_count": 25,
   "metadata": {
    "vscode": {
     "languageId": "r"
    }
   },
   "outputs": [
    {
     "data": {
      "text/html": [
       "18.9794444067237"
      ],
      "text/latex": [
       "18.9794444067237"
      ],
      "text/markdown": [
       "18.9794444067237"
      ],
      "text/plain": [
       "[1] 18.97944"
      ]
     },
     "metadata": {},
     "output_type": "display_data"
    },
    {
     "data": {
      "text/html": [
       "4.52261806110305"
      ],
      "text/latex": [
       "4.52261806110305"
      ],
      "text/markdown": [
       "4.52261806110305"
      ],
      "text/plain": [
       "[1] 4.522618"
      ]
     },
     "metadata": {},
     "output_type": "display_data"
    }
   ],
   "source": [
    "pred.lasso = predict(lasso, s=lasso$lambda.1se, newx=x.test)\n",
    "MSE.lasso = mean((y.test-pred.lasso)^2)\n",
    "MSE.lasso\n",
    "# NRMSE of ridge model\n",
    "100*sqrt(MSE.lasso)/(max(x.train,na.rm=T) - min(x.train,na.rm=T)) "
   ]
  },
  {
   "attachments": {},
   "cell_type": "markdown",
   "metadata": {},
   "source": [
    "### Elastic-Net Model"
   ]
  },
  {
   "cell_type": "code",
   "execution_count": 26,
   "metadata": {
    "vscode": {
     "languageId": "r"
    }
   },
   "outputs": [
    {
     "data": {
      "text/plain": [
       "           Length Class  Mode     \n",
       "lambda     100    -none- numeric  \n",
       "cvm        100    -none- numeric  \n",
       "cvsd       100    -none- numeric  \n",
       "cvup       100    -none- numeric  \n",
       "cvlo       100    -none- numeric  \n",
       "nzero      100    -none- numeric  \n",
       "call         6    -none- call     \n",
       "name         1    -none- character\n",
       "glmnet.fit  12    elnet  list     \n",
       "lambda.min   1    -none- numeric  \n",
       "lambda.1se   1    -none- numeric  \n",
       "index        2    -none- numeric  "
      ]
     },
     "metadata": {},
     "output_type": "display_data"
    },
    {
     "data": {
      "image/png": "[encoded data removed]",
      "text/plain": [
       "plot without title"
      ]
     },
     "metadata": {},
     "output_type": "display_data"
    }
   ],
   "source": [
    "set.seed(123)\n",
    "elastic.net =cv.glmnet(x.train, y.train, alpha = 0.7, type.measure = \"mse\", family=\"gaussian\") # 10 fold cross validation\n",
    "summary(elastic.net)\n",
    "plot(elastic.net)"
   ]
  },
  {
   "attachments": {},
   "cell_type": "markdown",
   "metadata": {},
   "source": [
    "### Prediction and evaluation of Elastic-Net model"
   ]
  },
  {
   "cell_type": "code",
   "execution_count": 27,
   "metadata": {
    "vscode": {
     "languageId": "r"
    }
   },
   "outputs": [
    {
     "data": {
      "text/html": [
       "16.6823180206409"
      ],
      "text/latex": [
       "16.6823180206409"
      ],
      "text/markdown": [
       "16.6823180206409"
      ],
      "text/plain": [
       "[1] 16.68232"
      ]
     },
     "metadata": {},
     "output_type": "display_data"
    },
    {
     "data": {
      "text/html": [
       "4.24010257765889"
      ],
      "text/latex": [
       "4.24010257765889"
      ],
      "text/markdown": [
       "4.24010257765889"
      ],
      "text/plain": [
       "[1] 4.240103"
      ]
     },
     "metadata": {},
     "output_type": "display_data"
    }
   ],
   "source": [
    "pred.elastic = predict(elastic.net, s=elastic.net$lambda.1se, newx=x.test)\n",
    "MSE.elastic = mean((y.test-pred.elastic)^2)\n",
    "MSE.elastic\n",
    "# NRMSE of elastic-net model\n",
    "100*sqrt(MSE.elastic)/(max(x.train,na.rm=T) - min(x.train,na.rm=T)) "
   ]
  },
  {
   "attachments": {},
   "cell_type": "markdown",
   "metadata": {},
   "source": [
    "### Ridge Model Coefficents"
   ]
  },
  {
   "cell_type": "code",
   "execution_count": 28,
   "metadata": {
    "vscode": {
     "languageId": "r"
    }
   },
   "outputs": [
    {
     "data": {
      "text/plain": [
       "5 x 1 sparse Matrix of class \"dgCMatrix\"\n",
       "                            1\n",
       "(Intercept)        -3.3019384\n",
       "data.Speed_ms       4.3036038\n",
       "data.Speed_ms.2     1.1335826\n",
       "data.Speed_ms.3     0.2483023\n",
       "data.Temperature_C  0.2610736"
      ]
     },
     "metadata": {},
     "output_type": "display_data"
    }
   ],
   "source": [
    "lam_ridge = ridge$lambda.1se\n",
    "fin_ridge = glmnet(x, y, alpha = 0, family=\"gaussian\")\n",
    "coef_ridge = predict(fin_ridge, type = \"coefficients\", s=lam_ridge)\n",
    "coef_ridge "
   ]
  },
  {
   "attachments": {},
   "cell_type": "markdown",
   "metadata": {},
   "source": [
    "### Lasso Model Coefficents"
   ]
  },
  {
   "cell_type": "code",
   "execution_count": 29,
   "metadata": {
    "vscode": {
     "languageId": "r"
    }
   },
   "outputs": [
    {
     "data": {
      "text/plain": [
       "5 x 1 sparse Matrix of class \"dgCMatrix\"\n",
       "                             1\n",
       "(Intercept)        -1.75696428\n",
       "data.Speed_ms       1.89602879\n",
       "data.Speed_ms.2     2.93614177\n",
       "data.Speed_ms.3     .         \n",
       "data.Temperature_C  0.04912573"
      ]
     },
     "metadata": {},
     "output_type": "display_data"
    }
   ],
   "source": [
    "lam_lasso = lasso$lambda.1se\n",
    "fin_lasso = glmnet(x, y, alpha = 1, family=\"gaussian\")\n",
    "coef_lasso = predict(fin_lasso, type = \"coefficients\", s=lam_lasso)\n",
    "coef_lasso"
   ]
  },
  {
   "attachments": {},
   "cell_type": "markdown",
   "metadata": {},
   "source": [
    "### Elastic-Net Model Coefficents"
   ]
  },
  {
   "cell_type": "code",
   "execution_count": 30,
   "metadata": {
    "vscode": {
     "languageId": "r"
    }
   },
   "outputs": [
    {
     "data": {
      "text/plain": [
       "5 x 1 sparse Matrix of class \"dgCMatrix\"\n",
       "                            1\n",
       "(Intercept)        -3.1675208\n",
       "data.Speed_ms       2.0542562\n",
       "data.Speed_ms.2     3.0455457\n",
       "data.Speed_ms.3     .        \n",
       "data.Temperature_C  0.1378312"
      ]
     },
     "metadata": {},
     "output_type": "display_data"
    }
   ],
   "source": [
    "lam_elastic.net = elastic.net$lambda.1se\n",
    "fin_elastic.net = glmnet(x, y, alpha = 0.7, family=\"gaussian\")\n",
    "coef_elastic.net = predict(fin_elastic.net, type = \"coefficients\", s=lam_elastic.net)\n",
    "coef_elastic.net"
   ]
  },
  {
   "attachments": {},
   "cell_type": "markdown",
   "metadata": {},
   "source": [
    "### Using the best model for each method for predictions"
   ]
  },
  {
   "cell_type": "code",
   "execution_count": 31,
   "metadata": {
    "vscode": {
     "languageId": "r"
    }
   },
   "outputs": [],
   "source": [
    "best_ridge = ridge$glmnet.fit \n",
    "best_lasso = lasso$glmnet.fit\n",
    "best_elastic.net = elastic.net$glmnet.fit\n",
    "\n",
    "pred_ridge = predict(best_ridge, s=lam_ridge, newx=x)\n",
    "pred_lasso = predict(best_lasso, s=lam_lasso, newx=x)\n",
    "pred_elastic.net = predict(best_elastic.net, s=lam_elastic.net, newx=x)"
   ]
  },
  {
   "attachments": {},
   "cell_type": "markdown",
   "metadata": {},
   "source": [
    "### Plotting the models for each method"
   ]
  },
  {
   "cell_type": "code",
   "execution_count": 32,
   "metadata": {
    "vscode": {
     "languageId": "r"
    }
   },
   "outputs": [
    {
     "data": {
      "image/png": "[encoded data removed]",
      "text/plain": [
       "Plot with title \"Power vs Wind Speed (New Methods)\""
      ]
     },
     "metadata": {},
     "output_type": "display_data"
    }
   ],
   "source": [
    "plot(df$Speed_ms,df$Power_Watt,xlab=\"Wind Speed (m/s)\",ylab=\"Power (Watts)\",cex.main= 1.5,cex=1.2,cex.axis=1.2,cex.lab=1.2,pch=19,col=\"black\",panel.first=grid(), main= \"Power vs Wind Speed (New Methods)\")\n",
    "lines(df$Speed_ms,pred_ridge,col=\"gray\",lwd=3)\n",
    "lines(df$Speed_ms,pred_lasso, col=\"purple\",lwd=3)\n",
    "lines(df$Speed_ms,pred_elastic.net, col=\"skyblue\")\n",
    "\n",
    "legend(legend=c(\"Ridge\",\"Lasso\", \"Elastic-Net\"), \n",
    "       col=c(\"gray\", \"purple\", \"skyblue\" ),\"bottomright\", lwd=3, cex=1)"
   ]
  },
  {
   "attachments": {},
   "cell_type": "markdown",
   "metadata": {},
   "source": [
    "__The Elastic-Net model performed the best out of all models tested__"
   ]
  },
  {
   "attachments": {},
   "cell_type": "markdown",
   "metadata": {},
   "source": [
    "## Final Prediction"
   ]
  },
  {
   "attachments": {},
   "cell_type": "markdown",
   "metadata": {},
   "source": [
    "### Defining the features being used for the final prediction on the test data "
   ]
  },
  {
   "cell_type": "code",
   "execution_count": 33,
   "metadata": {
    "vscode": {
     "languageId": "r"
    }
   },
   "outputs": [
    {
     "data": {
      "text/html": [
       "<table>\n",
       "<thead><tr><th scope=col>test_data.Speed_ms</th><th scope=col>test_data.Speed_ms.2</th><th scope=col>test_data.Speed_ms.3</th><th scope=col>test_data.Temperature_C</th></tr></thead>\n",
       "<tbody>\n",
       "\t<tr><td>0.911       </td><td>0.829921    </td><td> 0.756058031</td><td>-0.120      </td></tr>\n",
       "\t<tr><td>0.940       </td><td>0.883600    </td><td> 0.830584000</td><td> 5.938      </td></tr>\n",
       "\t<tr><td>2.179       </td><td>4.748041    </td><td>10.345981339</td><td>19.500      </td></tr>\n",
       "\t<tr><td>1.315       </td><td>1.729225    </td><td> 2.273930875</td><td>-4.902      </td></tr>\n",
       "\t<tr><td>0.212       </td><td>0.044944    </td><td> 0.009528128</td><td> 6.228      </td></tr>\n",
       "\t<tr><td>1.087       </td><td>1.181569    </td><td> 1.284365503</td><td> 2.380      </td></tr>\n",
       "</tbody>\n",
       "</table>\n"
      ],
      "text/latex": [
       "\\begin{tabular}{r|llll}\n",
       " test\\_data.Speed\\_ms & test\\_data.Speed\\_ms.2 & test\\_data.Speed\\_ms.3 & test\\_data.Temperature\\_C\\\\\n",
       "\\hline\n",
       "\t 0.911        & 0.829921     &  0.756058031 & -0.120      \\\\\n",
       "\t 0.940        & 0.883600     &  0.830584000 &  5.938      \\\\\n",
       "\t 2.179        & 4.748041     & 10.345981339 & 19.500      \\\\\n",
       "\t 1.315        & 1.729225     &  2.273930875 & -4.902      \\\\\n",
       "\t 0.212        & 0.044944     &  0.009528128 &  6.228      \\\\\n",
       "\t 1.087        & 1.181569     &  1.284365503 &  2.380      \\\\\n",
       "\\end{tabular}\n"
      ],
      "text/markdown": [
       "\n",
       "| test_data.Speed_ms | test_data.Speed_ms.2 | test_data.Speed_ms.3 | test_data.Temperature_C |\n",
       "|---|---|---|---|\n",
       "| 0.911        | 0.829921     |  0.756058031 | -0.120       |\n",
       "| 0.940        | 0.883600     |  0.830584000 |  5.938       |\n",
       "| 2.179        | 4.748041     | 10.345981339 | 19.500       |\n",
       "| 1.315        | 1.729225     |  2.273930875 | -4.902       |\n",
       "| 0.212        | 0.044944     |  0.009528128 |  6.228       |\n",
       "| 1.087        | 1.181569     |  1.284365503 |  2.380       |\n",
       "\n"
      ],
      "text/plain": [
       "  test_data.Speed_ms test_data.Speed_ms.2 test_data.Speed_ms.3\n",
       "1 0.911              0.829921              0.756058031        \n",
       "2 0.940              0.883600              0.830584000        \n",
       "3 2.179              4.748041             10.345981339        \n",
       "4 1.315              1.729225              2.273930875        \n",
       "5 0.212              0.044944              0.009528128        \n",
       "6 1.087              1.181569              1.284365503        \n",
       "  test_data.Temperature_C\n",
       "1 -0.120                 \n",
       "2  5.938                 \n",
       "3 19.500                 \n",
       "4 -4.902                 \n",
       "5  6.228                 \n",
       "6  2.380                 "
      ]
     },
     "metadata": {},
     "output_type": "display_data"
    },
    {
     "data": {
      "text/html": [
       "<table>\n",
       "<thead><tr><th scope=col>test_data.Speed_ms</th><th scope=col>test_data.Speed_ms.2</th><th scope=col>test_data.Speed_ms.3</th><th scope=col>test_data.Temperature_C</th></tr></thead>\n",
       "<tbody>\n",
       "\t<tr><td>0.911       </td><td>0.829921    </td><td> 0.756058031</td><td>-0.120      </td></tr>\n",
       "\t<tr><td>0.940       </td><td>0.883600    </td><td> 0.830584000</td><td> 5.938      </td></tr>\n",
       "\t<tr><td>2.179       </td><td>4.748041    </td><td>10.345981339</td><td>19.500      </td></tr>\n",
       "\t<tr><td>1.315       </td><td>1.729225    </td><td> 2.273930875</td><td>-4.902      </td></tr>\n",
       "\t<tr><td>0.212       </td><td>0.044944    </td><td> 0.009528128</td><td> 6.228      </td></tr>\n",
       "\t<tr><td>1.087       </td><td>1.181569    </td><td> 1.284365503</td><td> 2.380      </td></tr>\n",
       "</tbody>\n",
       "</table>\n"
      ],
      "text/latex": [
       "\\begin{tabular}{llll}\n",
       " test\\_data.Speed\\_ms & test\\_data.Speed\\_ms.2 & test\\_data.Speed\\_ms.3 & test\\_data.Temperature\\_C\\\\\n",
       "\\hline\n",
       "\t 0.911        & 0.829921     &  0.756058031 & -0.120      \\\\\n",
       "\t 0.940        & 0.883600     &  0.830584000 &  5.938      \\\\\n",
       "\t 2.179        & 4.748041     & 10.345981339 & 19.500      \\\\\n",
       "\t 1.315        & 1.729225     &  2.273930875 & -4.902      \\\\\n",
       "\t 0.212        & 0.044944     &  0.009528128 &  6.228      \\\\\n",
       "\t 1.087        & 1.181569     &  1.284365503 &  2.380      \\\\\n",
       "\\end{tabular}\n"
      ],
      "text/markdown": [
       "\n",
       "| test_data.Speed_ms | test_data.Speed_ms.2 | test_data.Speed_ms.3 | test_data.Temperature_C |\n",
       "|---|---|---|---|\n",
       "| 0.911        | 0.829921     |  0.756058031 | -0.120       |\n",
       "| 0.940        | 0.883600     |  0.830584000 |  5.938       |\n",
       "| 2.179        | 4.748041     | 10.345981339 | 19.500       |\n",
       "| 1.315        | 1.729225     |  2.273930875 | -4.902       |\n",
       "| 0.212        | 0.044944     |  0.009528128 |  6.228       |\n",
       "| 1.087        | 1.181569     |  1.284365503 |  2.380       |\n",
       "\n"
      ],
      "text/plain": [
       "     test_data.Speed_ms test_data.Speed_ms.2 test_data.Speed_ms.3\n",
       "[1,] 0.911              0.829921              0.756058031        \n",
       "[2,] 0.940              0.883600              0.830584000        \n",
       "[3,] 2.179              4.748041             10.345981339        \n",
       "[4,] 1.315              1.729225              2.273930875        \n",
       "[5,] 0.212              0.044944              0.009528128        \n",
       "[6,] 1.087              1.181569              1.284365503        \n",
       "     test_data.Temperature_C\n",
       "[1,] -0.120                 \n",
       "[2,]  5.938                 \n",
       "[3,] 19.500                 \n",
       "[4,] -4.902                 \n",
       "[5,]  6.228                 \n",
       "[6,]  2.380                 "
      ]
     },
     "metadata": {},
     "output_type": "display_data"
    }
   ],
   "source": [
    "df_fin = data.frame(test_data$Speed_ms, test_data$Speed_ms^2, test_data$Speed_ms^3, test_data$Temperature_C)\n",
    "head(df_fin)\n",
    "matrix_test = data.matrix(df_fin)\n",
    "head(matrix_test)"
   ]
  },
  {
   "attachments": {},
   "cell_type": "markdown",
   "metadata": {},
   "source": [
    "### Final prediction using the best model"
   ]
  },
  {
   "cell_type": "code",
   "execution_count": 34,
   "metadata": {
    "vscode": {
     "languageId": "r"
    }
   },
   "outputs": [
    {
     "data": {
      "text/html": [
       "<table>\n",
       "<thead><tr><th scope=col>1</th></tr></thead>\n",
       "<tbody>\n",
       "\t<tr><td> 1.173761</td></tr>\n",
       "\t<tr><td> 2.020679</td></tr>\n",
       "\t<tr><td>18.969769</td></tr>\n",
       "\t<tr><td> 4.552290</td></tr>\n",
       "\t<tr><td>-1.751087</td></tr>\n",
       "\t<tr><td> 2.957608</td></tr>\n",
       "</tbody>\n",
       "</table>\n"
      ],
      "text/latex": [
       "\\begin{tabular}{l}\n",
       " 1\\\\\n",
       "\\hline\n",
       "\t  1.173761\\\\\n",
       "\t  2.020679\\\\\n",
       "\t 18.969769\\\\\n",
       "\t  4.552290\\\\\n",
       "\t -1.751087\\\\\n",
       "\t  2.957608\\\\\n",
       "\\end{tabular}\n"
      ],
      "text/markdown": [
       "\n",
       "| 1 |\n",
       "|---|\n",
       "|  1.173761 |\n",
       "|  2.020679 |\n",
       "| 18.969769 |\n",
       "|  4.552290 |\n",
       "| -1.751087 |\n",
       "|  2.957608 |\n",
       "\n"
      ],
      "text/plain": [
       "     1        \n",
       "[1,]  1.173761\n",
       "[2,]  2.020679\n",
       "[3,] 18.969769\n",
       "[4,]  4.552290\n",
       "[5,] -1.751087\n",
       "[6,]  2.957608"
      ]
     },
     "metadata": {},
     "output_type": "display_data"
    }
   ],
   "source": [
    "fin_pred = predict(best_elastic.net, s=lam_elastic.net, newx= matrix_test)\n",
    "head(fin_pred)"
   ]
  },
  {
   "attachments": {},
   "cell_type": "markdown",
   "metadata": {},
   "source": [
    "### Plotting the power predictions"
   ]
  },
  {
   "cell_type": "code",
   "execution_count": 35,
   "metadata": {
    "vscode": {
     "languageId": "r"
    }
   },
   "outputs": [
    {
     "data": {
      "image/png": "[encoded data removed]",
      "text/plain": [
       "Plot with title \"Power Predictions\""
      ]
     },
     "metadata": {},
     "output_type": "display_data"
    }
   ],
   "source": [
    "plot(fin_pred,xlab=\"Observation\",ylab=\"Power (Watts)\",cex.main= 1.5,cex=1.2,cex.axis=1.2,cex.lab=1.2,pch=19,col=\"skyblue\",panel.first=grid(), main= \"Power Predictions\")"
   ]
  },
  {
   "attachments": {},
   "cell_type": "markdown",
   "metadata": {},
   "source": [
    "### Plotting the Power Prediction vs Wind Speed "
   ]
  },
  {
   "cell_type": "code",
   "execution_count": 36,
   "metadata": {
    "vscode": {
     "languageId": "r"
    }
   },
   "outputs": [
    {
     "data": {
      "image/png": "[encoded data removed]",
      "text/plain": [
       "Plot with title \"Power Predictions vs Wind Speed\""
      ]
     },
     "metadata": {},
     "output_type": "display_data"
    }
   ],
   "source": [
    "plot(test_data$Speed_ms, fin_pred,xlab=\"Wind Speed (m/s)\",ylab=\"Power (Watts)\",cex.main= 1.5,cex=1.2,cex.axis=1.2,cex.lab=1.2,pch=19,col=\"black\",panel.first=grid(), main= \"Power Predictions vs Wind Speed\")"
   ]
  },
  {
   "attachments": {},
   "cell_type": "markdown",
   "metadata": {},
   "source": [
    "### Storing the Results in a DataFrame"
   ]
  },
  {
   "cell_type": "code",
   "execution_count": 37,
   "metadata": {
    "vscode": {
     "languageId": "r"
    }
   },
   "outputs": [
    {
     "data": {
      "text/html": [
       "<table>\n",
       "<thead><tr><th scope=col>Index</th><th scope=col>Time</th><th scope=col>Speed_ms</th><th scope=col>Temperature_C</th><th scope=col>Humidity</th><th scope=col>Solar_Irrdiance_Wm2</th><th scope=col>Power_Watt</th></tr></thead>\n",
       "<tbody>\n",
       "\t<tr><td>1        </td><td>NA       </td><td>0.911    </td><td>-0.120   </td><td>88.10    </td><td> 0.00    </td><td> 1.173761</td></tr>\n",
       "\t<tr><td>2        </td><td>NA       </td><td>0.940    </td><td> 5.938   </td><td>88.80    </td><td> 0.00    </td><td> 2.020679</td></tr>\n",
       "\t<tr><td>3        </td><td>NA       </td><td>2.179    </td><td>19.500   </td><td>59.04    </td><td>20.03    </td><td>18.969769</td></tr>\n",
       "\t<tr><td>4        </td><td>NA       </td><td>1.315    </td><td>-4.902   </td><td>51.25    </td><td> 0.00    </td><td> 4.552290</td></tr>\n",
       "\t<tr><td>5        </td><td>NA       </td><td>0.212    </td><td> 6.228   </td><td>63.02    </td><td> 0.00    </td><td>-1.751087</td></tr>\n",
       "\t<tr><td>6        </td><td>NA       </td><td>1.087    </td><td> 2.380   </td><td>60.32    </td><td> 0.00    </td><td> 2.957608</td></tr>\n",
       "</tbody>\n",
       "</table>\n"
      ],
      "text/latex": [
       "\\begin{tabular}{r|lllllll}\n",
       " Index & Time & Speed\\_ms & Temperature\\_C & Humidity & Solar\\_Irrdiance\\_Wm2 & Power\\_Watt\\\\\n",
       "\\hline\n",
       "\t 1         & NA        & 0.911     & -0.120    & 88.10     &  0.00     &  1.173761\\\\\n",
       "\t 2         & NA        & 0.940     &  5.938    & 88.80     &  0.00     &  2.020679\\\\\n",
       "\t 3         & NA        & 2.179     & 19.500    & 59.04     & 20.03     & 18.969769\\\\\n",
       "\t 4         & NA        & 1.315     & -4.902    & 51.25     &  0.00     &  4.552290\\\\\n",
       "\t 5         & NA        & 0.212     &  6.228    & 63.02     &  0.00     & -1.751087\\\\\n",
       "\t 6         & NA        & 1.087     &  2.380    & 60.32     &  0.00     &  2.957608\\\\\n",
       "\\end{tabular}\n"
      ],
      "text/markdown": [
       "\n",
       "| Index | Time | Speed_ms | Temperature_C | Humidity | Solar_Irrdiance_Wm2 | Power_Watt |\n",
       "|---|---|---|---|---|---|---|\n",
       "| 1         | NA        | 0.911     | -0.120    | 88.10     |  0.00     |  1.173761 |\n",
       "| 2         | NA        | 0.940     |  5.938    | 88.80     |  0.00     |  2.020679 |\n",
       "| 3         | NA        | 2.179     | 19.500    | 59.04     | 20.03     | 18.969769 |\n",
       "| 4         | NA        | 1.315     | -4.902    | 51.25     |  0.00     |  4.552290 |\n",
       "| 5         | NA        | 0.212     |  6.228    | 63.02     |  0.00     | -1.751087 |\n",
       "| 6         | NA        | 1.087     |  2.380    | 60.32     |  0.00     |  2.957608 |\n",
       "\n"
      ],
      "text/plain": [
       "  Index Time Speed_ms Temperature_C Humidity Solar_Irrdiance_Wm2 Power_Watt\n",
       "1 1     NA   0.911    -0.120        88.10     0.00                1.173761 \n",
       "2 2     NA   0.940     5.938        88.80     0.00                2.020679 \n",
       "3 3     NA   2.179    19.500        59.04    20.03               18.969769 \n",
       "4 4     NA   1.315    -4.902        51.25     0.00                4.552290 \n",
       "5 5     NA   0.212     6.228        63.02     0.00               -1.751087 \n",
       "6 6     NA   1.087     2.380        60.32     0.00                2.957608 "
      ]
     },
     "metadata": {},
     "output_type": "display_data"
    }
   ],
   "source": [
    "final = data.frame(test_data[1:6], fin_pred)\n",
    "colnames(final) = c(\"Index\", \"Time\", \"Speed_ms\", \"Temperature_C\", \"Humidity\", \"Solar_Irrdiance_Wm2\", \"Power_Watt\")\n",
    "head(final)"
   ]
  }
 ],
 "metadata": {
  "kernelspec": {
   "display_name": "R",
   "language": "R",
   "name": "ir"
  },
  "language_info": {
   "codemirror_mode": "r",
   "file_extension": ".r",
   "mimetype": "text/x-r-source",
   "name": "R",
   "pygments_lexer": "r",
   "version": "3.6.1"
  },
  "orig_nbformat": 4
 },
 "nbformat": 4,
 "nbformat_minor": 2
}
